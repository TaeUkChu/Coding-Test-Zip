{
 "cells": [
  {
   "cell_type": "code",
   "execution_count": null,
   "metadata": {},
   "outputs": [],
   "source": [
    "graph1 = [\n",
    "  [0,0,1,0,1]\n",
    "  [0,0,0,1,1]\n",
    "  [1,0,0,0,1]\n",
    "  [0,1,0,0,1]\n",
    "  [1,1,1,1,0]\n",
    "]"
   ]
  },
  {
   "cell_type": "code",
   "execution_count": null,
   "metadata": {},
   "outputs": [],
   "source": [
    "graph2 = {\n",
    "  1: [3,5],\n",
    "  2: [4,5],\n",
    "  3: [1,5],\n",
    "  4: [2,5],\n",
    "  5: [1,2,3,4]\n",
    "}"
   ]
  },
  {
   "cell_type": "code",
   "execution_count": 6,
   "metadata": {},
   "outputs": [],
   "source": [
    "graph = {\n",
    "  'A' : ['B','D','E'],\n",
    "  'B' : ['A','C','D'],\n",
    "  'C' : ['B'],\n",
    "  'D' : ['A','B'],\n",
    "  'E' : ['A']\n",
    "}"
   ]
  },
  {
   "cell_type": "markdown",
   "metadata": {},
   "source": [
    "### Graph (BFS) 기초 "
   ]
  },
  {
   "cell_type": "code",
   "execution_count": 10,
   "metadata": {},
   "outputs": [
    {
     "name": "stdout",
     "output_type": "stream",
     "text": [
      "['A', 'B', 'D', 'E', 'C']\n"
     ]
    }
   ],
   "source": [
    "from collections import deque\n",
    "\n",
    "def graph_bfs(graph, start_v):\n",
    "  visited = [start_v]\n",
    "  q = deque()\n",
    "  q.append(start_v)\n",
    "\n",
    "  while q :\n",
    "    cur_node = q.popleft()\n",
    "    for v in graph[cur_node] :\n",
    "      if v not in visited :\n",
    "        visited.append(v)\n",
    "        q.append(v)\n",
    "  return visited\n",
    "\n",
    "print(graph_bfs(graph,'A'))\n"
   ]
  },
  {
   "cell_type": "markdown",
   "metadata": {},
   "source": [
    "### Graph(DFS) 기초"
   ]
  },
  {
   "cell_type": "code",
   "execution_count": 20,
   "metadata": {},
   "outputs": [
    {
     "data": {
      "text/plain": [
       "['A', 'B', 'C', 'D', 'E']"
      ]
     },
     "execution_count": 20,
     "metadata": {},
     "output_type": "execute_result"
    }
   ],
   "source": [
    "# 1번 구조\n",
    "\n",
    "def graph_dfs(graph, cur_v, visited=[]):\n",
    "  visited.append(cur_v)\n",
    "  for v in graph[cur_v]:\n",
    "    if v not in visited :\n",
    "      visited = graph_dfs(graph, v, visited)\n",
    "  return visited\n",
    "\n",
    "graph_dfs(graph, 'A',)\n"
   ]
  },
  {
   "cell_type": "code",
   "execution_count": 22,
   "metadata": {},
   "outputs": [
    {
     "data": {
      "text/plain": [
       "['A', 'B', 'C', 'D', 'E']"
      ]
     },
     "execution_count": 22,
     "metadata": {},
     "output_type": "execute_result"
    }
   ],
   "source": [
    "# 2번 구조\n",
    "visited = []\n",
    "\n",
    "def graph_dfs(cur_v):\n",
    "  visited.append(cur_v)\n",
    "  for v in graph[cur_v]:\n",
    "    if v not in visited :\n",
    "      graph_dfs(v)\n",
    "\n",
    "graph_dfs('A')\n",
    "visited"
   ]
  },
  {
   "cell_type": "markdown",
   "metadata": {},
   "source": [
    "### Graph 실전 문제\n",
    "\n",
    "![](./problem-img/6.Graph(Numbers%20of%20Islands).png)\n"
   ]
  },
  {
   "cell_type": "code",
   "execution_count": null,
   "metadata": {},
   "outputs": [],
   "source": [
    "from collections import deque\n",
    "\n",
    "grid = [\n",
    "  [\"1\",\"1\",\"0\",\"0\",\"0\",],\n",
    "  [\"1\",\"1\",\"0\",\"0\",\"0\",],\n",
    "  [\"0\",\"0\",\"1\",\"0\",\"0\",],\n",
    "  [\"0\",\"0\",\"0\",\"1\",\"1\",],\n",
    "]\n",
    "\n",
    "def numIsLands(grid):\n",
    "  num_of_islands = 0\n",
    "  m = len(grid)\n",
    "  n = len(grid[0])\n",
    "  visited = [[False]*n for _ in range[m]]\n",
    "\n",
    "  def bfs(i,j):\n",
    "\n",
    "\n",
    "  for i in range(m): #4\n",
    "    for j in range(n): #5\n",
    "      if grid[i][j] == \"1\" and grid[i][j] not in visited :\n",
    "        bfs(i, j)"
   ]
  },
  {
   "cell_type": "code",
   "execution_count": 2,
   "metadata": {},
   "outputs": [
    {
     "data": {
      "text/plain": [
       "[[0, 0, 0, 0, 0], [0, 0, 0, 0, 0], [0, 0, 0, 0, 0], [0, 0, 0, 0, 0]]"
      ]
     },
     "execution_count": 2,
     "metadata": {},
     "output_type": "execute_result"
    }
   ],
   "source": [
    "temp = [[0]*5 for _ in range(4)]\n",
    "temp"
   ]
  },
  {
   "cell_type": "code",
   "execution_count": null,
   "metadata": {},
   "outputs": [],
   "source": []
  }
 ],
 "metadata": {
  "kernelspec": {
   "display_name": "Python 3",
   "language": "python",
   "name": "python3"
  },
  "language_info": {
   "codemirror_mode": {
    "name": "ipython",
    "version": 3
   },
   "file_extension": ".py",
   "mimetype": "text/x-python",
   "name": "python",
   "nbconvert_exporter": "python",
   "pygments_lexer": "ipython3",
   "version": "3.11.4"
  }
 },
 "nbformat": 4,
 "nbformat_minor": 2
}
