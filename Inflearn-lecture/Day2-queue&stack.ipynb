{
 "cells": [
  {
   "cell_type": "markdown",
   "metadata": {},
   "source": [
    "### Queue란?\n",
    "시간 순서상 먼저 저장한 데이터가 먼저 출력되는 선입선출(FIFO) 형식으로 데이터를 저장하는 구조\n",
    "\n",
    "- enqueue : rear(꼬리)에 데이터를 추가하는 것\n",
    "- dequeue : front(머리)에서 데이터를 꺼내는 것"
   ]
  },
  {
   "cell_type": "markdown",
   "metadata": {},
   "source": [
    "#### Code 구현1 : Based Array"
   ]
  },
  {
   "cell_type": "code",
   "execution_count": 1,
   "metadata": {},
   "outputs": [
    {
     "data": {
      "text/plain": [
       "3"
      ]
     },
     "execution_count": 1,
     "metadata": {},
     "output_type": "execute_result"
    }
   ],
   "source": [
    "queue = []\n",
    "#enqueue O(1)\n",
    "queue.append(1)\n",
    "queue.append(2)\n",
    "queue.append(3)\n",
    "#deque O(n) <- 땡긴 후 길이만큼 옮겨와야 하므로\n",
    "queue.pop(0)\n",
    "queue.pop(0)\n",
    "queue.pop(0)"
   ]
  },
  {
   "cell_type": "markdown",
   "metadata": {},
   "source": [
    "#### Code 구현2 : Based LinkedList "
   ]
  },
  {
   "cell_type": "code",
   "execution_count": 2,
   "metadata": {},
   "outputs": [
    {
     "data": {
      "text/plain": [
       "3"
      ]
     },
     "execution_count": 2,
     "metadata": {},
     "output_type": "execute_result"
    }
   ],
   "source": [
    "from collections import deque\n",
    "queue = deque()\n",
    "#enqueue O(1)\n",
    "queue.append(1)\n",
    "queue.append(2)\n",
    "queue.append(3)\n",
    "#deque O(1)\n",
    "queue.popleft()\n",
    "queue.popleft()\n",
    "queue.popleft()"
   ]
  },
  {
   "cell_type": "markdown",
   "metadata": {},
   "source": [
    "### Stack 코드 구현"
   ]
  },
  {
   "cell_type": "code",
   "execution_count": 3,
   "metadata": {},
   "outputs": [
    {
     "data": {
      "text/plain": [
       "1"
      ]
     },
     "execution_count": 3,
     "metadata": {},
     "output_type": "execute_result"
    }
   ],
   "source": [
    "stack = []\n",
    "# push O(1)\n",
    "stack.append(1)\n",
    "stack.append(2)\n",
    "stack.append(3)\n",
    "# pop O(1)\n",
    "stack.pop()\n",
    "stack.pop()\n",
    "stack.pop()"
   ]
  },
  {
   "cell_type": "markdown",
   "metadata": {},
   "source": [
    "### 실전 문제 풀이1 : Stack\n",
    "![](./problem-img/stack1.png)"
   ]
  },
  {
   "cell_type": "code",
   "execution_count": 4,
   "metadata": {},
   "outputs": [],
   "source": [
    "def Pvalidation(s):\n",
    "  stack=[]\n",
    "  for p in s:\n",
    "    if p == '(' :\n",
    "      stack.append(')')\n",
    "    elif p == '{' :\n",
    "      stack.append('}')\n",
    "    elif p == '[' :\n",
    "      stack.append(']')\n",
    "    elif not stack or stack.pop() != p: #stack이 없거나 닫는 괄호 짝이 안맞으면\n",
    "      return False\n",
    "  return not stack # 종료 후 stack이 비어있어야 함!"
   ]
  },
  {
   "cell_type": "code",
   "execution_count": 6,
   "metadata": {},
   "outputs": [
    {
     "data": {
      "text/plain": [
       "False"
      ]
     },
     "execution_count": 6,
     "metadata": {},
     "output_type": "execute_result"
    }
   ],
   "source": [
    "s = \"{(([]))[]}\"\n",
    "Pvalidation(s)"
   ]
  },
  {
   "cell_type": "markdown",
   "metadata": {},
   "source": [
    "### 실제 문제 풀이2 : Stack, BFS\n",
    "![](./problem-img/stack2.png) "
   ]
  },
  {
   "cell_type": "code",
   "execution_count": 28,
   "metadata": {},
   "outputs": [
    {
     "data": {
      "text/plain": [
       "[1, 1, 4, 2, 1, 1, 0, 0]"
      ]
     },
     "execution_count": 28,
     "metadata": {},
     "output_type": "execute_result"
    }
   ],
   "source": [
    "def dailyTemperature(t):\n",
    "  stack = []\n",
    "  answer = [0]*len(t)\n",
    "  # answer = [0 for _ in range(len(t))]\n",
    "  for idx, t in enumerate(t):\n",
    "    while stack and t > stack[-1][1] : #t가 top보다 크면\n",
    "      popidx, popval = stack.pop()\n",
    "      answer[popidx] = idx-popidx\n",
    "    stack.append((idx,t))\n",
    "  return answer\n",
    "\n",
    "dailyTemperature([73,74,75,71,69,72,76,73])"
   ]
  },
  {
   "cell_type": "code",
   "execution_count": 16,
   "metadata": {},
   "outputs": [
    {
     "name": "stdout",
     "output_type": "stream",
     "text": [
      "1 22\n"
     ]
    }
   ],
   "source": [
    "stack=[]\n",
    "stack.append((1,22))\n",
    "idx, val = stack.pop()\n",
    "print(idx,val)"
   ]
  }
 ],
 "metadata": {
  "kernelspec": {
   "display_name": "Python 3",
   "language": "python",
   "name": "python3"
  },
  "language_info": {
   "codemirror_mode": {
    "name": "ipython",
    "version": 3
   },
   "file_extension": ".py",
   "mimetype": "text/x-python",
   "name": "python",
   "nbconvert_exporter": "python",
   "pygments_lexer": "ipython3",
   "version": "3.11.4"
  }
 },
 "nbformat": 4,
 "nbformat_minor": 2
}
