{
 "cells": [
  {
   "cell_type": "markdown",
   "metadata": {},
   "source": [
    "### 정렬 알고리즘 개요\n",
    "정렬이란 데이터를 특정한 기준에 따라서 순서대로 나열하는 것을 말한다.<br>\n",
    "\n",
    "정렬의 종류엔 선택 정렬, 삽입 정렬, 퀵 정렬, 계수 정렬이 있다."
   ]
  },
  {
   "cell_type": "markdown",
   "metadata": {},
   "source": [
    "#### 선택 정렬\n",
    "선택 정렬(selection sort)은 정렬 알고리즘 중 가장 원시적인 방법이다. \n",
    "\n",
    "선택 정렬은 ‘매번 가장 작은 것을 선택한다’에 초점이 맞추어져 있다."
   ]
  },
  {
   "cell_type": "code",
   "execution_count": 11,
   "metadata": {},
   "outputs": [
    {
     "name": "stdout",
     "output_type": "stream",
     "text": [
      "[0, 1, 2, 3, 4, 5, 6, 7, 8, 9]\n"
     ]
    }
   ],
   "source": [
    "array = [7,5,9,0,3,1,6,2,4,8]\n",
    "\n",
    "for i in range(len(array)):\n",
    "\tmin_index = i\n",
    "\tfor j in range(i+1,len(array)) :\n",
    "\t\tif array[min_index] > array[j] :\n",
    "\t\t\tmin_index=j\n",
    "\tarray[i], array[min_index] = array[min_index], array[i] #swap 구조\n",
    "\n",
    "print(array)"
   ]
  },
  {
   "cell_type": "code",
   "execution_count": 12,
   "metadata": {},
   "outputs": [
    {
     "name": "stdout",
     "output_type": "stream",
     "text": [
      "[5, 3]\n"
     ]
    }
   ],
   "source": [
    "array = [3,5]\n",
    "array[0], array[1] = array[1], array[0]\n",
    "print(array)"
   ]
  },
  {
   "cell_type": "markdown",
   "metadata": {},
   "source": [
    "#### 삽입 정렬\n",
    "\n",
    "삽입 정렬(insertion Sort)은 특정한 데이터를 적절한 위치에 삽입하는 방법이다."
   ]
  },
  {
   "cell_type": "code",
   "execution_count": 13,
   "metadata": {},
   "outputs": [
    {
     "name": "stdout",
     "output_type": "stream",
     "text": [
      "[0, 1, 2, 3, 4, 5, 6, 7, 8, 9]\n"
     ]
    }
   ],
   "source": [
    "array = [7,5,9,0,3,1,6,2,4,8]\n",
    "\n",
    "for i in range(1, len(array)):\n",
    "    for j in range(i,0,-1):\n",
    "        if array[j] < array[j-1] :\n",
    "            array[j], array[j-1] = array[j-1], array[j]\n",
    "        else:\n",
    "            break\n",
    "\n",
    "print(array)\n"
   ]
  },
  {
   "cell_type": "markdown",
   "metadata": {},
   "source": [
    "#### 퀵 정렬\n",
    "퀵 정렬은 기준을 설정한 다음 큰 수와 작은 수를 교환한 후 리스트를 반으로 나누는 방식이다.\n",
    "\n",
    "퀵 정렬에서는 피벗(pivot)이라는 기준점을 정한다."
   ]
  },
  {
   "cell_type": "code",
   "execution_count": 14,
   "metadata": {},
   "outputs": [
    {
     "name": "stdout",
     "output_type": "stream",
     "text": [
      "[0, 1, 2, 3, 4, 5, 6, 6, 7, 7, 8, 9]\n"
     ]
    }
   ],
   "source": [
    "array = [5,7,9,0,3,1,6,6,7,2,4,8]\n",
    "\n",
    "def quick_sort(array,start,end):\n",
    "    #종료 조건\n",
    "    if start >= end :\n",
    "        return\n",
    "    pivot = start\n",
    "    left = start+1\n",
    "    right = end\n",
    "    while left <= right :\n",
    "        while left <= end and array[left] <= array[pivot] :\n",
    "            left +=1\n",
    "        while right > start and array[right] > array[pivot] :\n",
    "            right -=1\n",
    "        if left > right :\n",
    "            array[right],array[pivot] = array[pivot],array[right]\n",
    "        else :\n",
    "            array[left],array[right] = array[right],array[left]\n",
    "\n",
    "    quick_sort(array,start,right-1)\n",
    "    quick_sort(array,right+1,end)\n",
    "\n",
    "quick_sort(array,0,len(array)-1)\n",
    "print(array)"
   ]
  },
  {
   "cell_type": "code",
   "execution_count": 15,
   "metadata": {},
   "outputs": [
    {
     "name": "stdout",
     "output_type": "stream",
     "text": [
      "[0, 1, 2, 3, 4, 5, 6, 7, 8, 9]\n"
     ]
    }
   ],
   "source": [
    "# 더 쉬운 버전 (런타임은 더 김)\n",
    "\n",
    "array = [5,7,9,0,3,1,6,2,4,8]\n",
    "\n",
    "def quick_sort(array) :\n",
    "    #종료 조건\n",
    "    if len(array) <= 1:\n",
    "        return array\n",
    "\n",
    "    pivot = array[0]\n",
    "    tail = array[1:]\n",
    "\n",
    "    left_side = [x for x in tail if x <= pivot]\n",
    "    right_side = [x for x in tail if x > pivot]\n",
    "\n",
    "    return quick_sort(left_side) + [pivot] + quick_sort(right_side)\n",
    "\n",
    "print(quick_sort(array))"
   ]
  },
  {
   "cell_type": "markdown",
   "metadata": {},
   "source": [
    "#### 계수 정렬\n",
    "특정한 조건이 부합할 때만 사용할 수 있는 매우 빠른 정렬 알고리즘\n",
    "\n",
    "특정 조건 : ‘데이터의 크기 범위가 제한되어 정수 형태로 표현할 수 있을 때’\n",
    "\n",
    "계수 정렬은 일반적으로 별도의 리스트를 선언하고 그 안에 정렬에 대한 정보를 담는다."
   ]
  },
  {
   "cell_type": "code",
   "execution_count": 16,
   "metadata": {},
   "outputs": [
    {
     "name": "stdout",
     "output_type": "stream",
     "text": [
      "0 0 1 1 2 2 3 4 5 5 6 7 8 9 9 "
     ]
    }
   ],
   "source": [
    "array = [7,5,9,0,3,1,6,2,9,1,4,8,0,5,2]\n",
    "\n",
    "count = [0]*(max(array)+1)\n",
    "\n",
    "for i in range(len(array)):\n",
    "    count[array[i]] +=1\n",
    "\n",
    "for i in range(len(count)):\n",
    "    for j in range(count[i]):\n",
    "        print(i,end=\" \")"
   ]
  },
  {
   "cell_type": "markdown",
   "metadata": {},
   "source": [
    "#### 기수 정렬"
   ]
  },
  {
   "cell_type": "code",
   "execution_count": 27,
   "metadata": {},
   "outputs": [
    {
     "name": "stdout",
     "output_type": "stream",
     "text": [
      "1 의 자릿 수 정렬:  [262, 422, 153, 433, 444, 855, 37, 598]\n",
      "10 의 자릿 수 정렬:  [422, 433, 37, 444, 153, 855, 262, 598]\n",
      "100 의 자릿 수 정렬:  [37, 153, 262, 422, 433, 444, 598, 855]\n",
      "[37, 153, 262, 422, 433, 444, 598, 855]\n"
     ]
    }
   ],
   "source": [
    "from collections import deque\n",
    "\n",
    "nums = [153,262,37,598,433,444,422,855]\n",
    "\n",
    "def radixSort(nums):\n",
    "    buckets = [deque() for _ in range(10)]\n",
    "\n",
    "    max_val = max(nums)\n",
    "    queue = deque(nums)\n",
    "    digit = 1 # 자릿수\n",
    "\n",
    "    while (max_val >= digit): # 가장 큰 수의 자릿수일 때 까지만 실행\n",
    "        while queue:\n",
    "            num = queue.popleft()\n",
    "            buckets[(num // digit) % 10].append(num) # 각 자리의 수(0~9)에 따라 버킷에 num을 넣는다.\n",
    "\n",
    "        # 해당 자릿수에서 버킷에 다 넣었으면, 버킷에 담겨있는 순서대로 꺼내와 정렬한다.\n",
    "        for bucket in buckets:\n",
    "            while bucket:\n",
    "                queue.append(bucket.popleft())\n",
    "        print(digit,\"의 자릿 수 정렬: \", list(queue))\n",
    "        digit *= 10 # 자릿수 증가시키기\n",
    "\n",
    "    print(list(queue))\n",
    "radixSort(nums)"
   ]
  },
  {
   "cell_type": "markdown",
   "metadata": {},
   "source": [
    "#### 파이썬 라이브러리"
   ]
  },
  {
   "cell_type": "code",
   "execution_count": 17,
   "metadata": {},
   "outputs": [
    {
     "name": "stdout",
     "output_type": "stream",
     "text": [
      "[('바나나', 2), ('당근', 3), ('사과', 4)]\n"
     ]
    }
   ],
   "source": [
    "array = [('바나나',2),('사과',4),('당근',3)]\n",
    "\n",
    "def setting(data):\n",
    "    return data[1]\n",
    "\n",
    "result = sorted(array, key=setting)\n",
    "print(result)"
   ]
  }
 ],
 "metadata": {
  "kernelspec": {
   "display_name": "Python 3",
   "language": "python",
   "name": "python3"
  },
  "language_info": {
   "codemirror_mode": {
    "name": "ipython",
    "version": 3
   },
   "file_extension": ".py",
   "mimetype": "text/x-python",
   "name": "python",
   "nbconvert_exporter": "python",
   "pygments_lexer": "ipython3",
   "version": "3.11.4"
  }
 },
 "nbformat": 4,
 "nbformat_minor": 2
}
