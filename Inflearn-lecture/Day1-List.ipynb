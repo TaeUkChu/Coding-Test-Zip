{
 "cells": [
  {
   "cell_type": "markdown",
   "metadata": {},
   "source": [
    "### Day 1 : List"
   ]
  },
  {
   "cell_type": "markdown",
   "metadata": {},
   "source": [
    "![1번 문제](./problem-capture/Two-sum.png)"
   ]
  },
  {
   "cell_type": "code",
   "execution_count": 13,
   "metadata": {},
   "outputs": [
    {
     "name": "stdout",
     "output_type": "stream",
     "text": [
      "True\n",
      "False\n"
     ]
    }
   ],
   "source": [
    "# 1번 풀이 : 완전 탐색\n",
    "# 시간복잡도 : n^2\n",
    "\n",
    "def TwoSum(nums,target) :\n",
    "  n = len(nums)\n",
    "  for i in range(n):\n",
    "    for j in range(i+1,n):\n",
    "      if nums[i] + nums[j] == target:\n",
    "        return True\n",
    "  return False\n",
    "\n",
    "print(TwoSum([4,1,9,7,5,3,16],14))\n",
    "print(TwoSum([2,1,5,7],4))"
   ]
  },
  {
   "cell_type": "code",
   "execution_count": 12,
   "metadata": {},
   "outputs": [
    {
     "name": "stdout",
     "output_type": "stream",
     "text": [
      "True\n",
      "False\n"
     ]
    }
   ],
   "source": [
    "# 2번 풀이 : 정렬을 이용한 방법 \n",
    "# 시간복잡도 : nlog(n) + n\n",
    "\n",
    "def TwoSum(nums,target) :\n",
    "  nums.sort()\n",
    "  L,R = 0, len(nums)-1\n",
    "  while(L<R):\n",
    "    result = nums[L]+nums[R]\n",
    "    if result < target :\n",
    "      L+=1\n",
    "    elif result > target :\n",
    "      R-=1\n",
    "    elif result == target:\n",
    "      return True\n",
    "  return False\n",
    "\n",
    "print(TwoSum([4,1,9,7,5,3,16],14))\n",
    "print(TwoSum([2,1,5,7],4))"
   ]
  },
  {
   "cell_type": "code",
   "execution_count": null,
   "metadata": {},
   "outputs": [],
   "source": []
  }
 ],
 "metadata": {
  "kernelspec": {
   "display_name": "Python 3",
   "language": "python",
   "name": "python3"
  },
  "language_info": {
   "codemirror_mode": {
    "name": "ipython",
    "version": 3
   },
   "file_extension": ".py",
   "mimetype": "text/x-python",
   "name": "python",
   "nbconvert_exporter": "python",
   "pygments_lexer": "ipython3",
   "version": "3.11.4"
  },
  "orig_nbformat": 4
 },
 "nbformat": 4,
 "nbformat_minor": 2
}
