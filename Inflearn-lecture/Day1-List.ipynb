{
 "cells": [
  {
   "cell_type": "markdown",
   "metadata": {},
   "source": [
    "### Day 1 : List"
   ]
  },
  {
   "cell_type": "markdown",
   "metadata": {},
   "source": [
    "#### Array List"
   ]
  },
  {
   "cell_type": "markdown",
   "metadata": {},
   "source": [
    "![1번 문제](./problem-img/Two-sum.png)"
   ]
  },
  {
   "cell_type": "code",
   "execution_count": 13,
   "metadata": {},
   "outputs": [
    {
     "name": "stdout",
     "output_type": "stream",
     "text": [
      "True\n",
      "False\n"
     ]
    }
   ],
   "source": [
    "# 1번 풀이 : 완전 탐색\n",
    "# 시간복잡도 : n^2\n",
    "\n",
    "def TwoSum(nums,target) :\n",
    "  n = len(nums)\n",
    "  for i in range(n):\n",
    "    for j in range(i+1,n):\n",
    "      if nums[i] + nums[j] == target:\n",
    "        return True\n",
    "  return False\n",
    "\n",
    "print(TwoSum([4,1,9,7,5,3,16],14))\n",
    "print(TwoSum([2,1,5,7],4))"
   ]
  },
  {
   "cell_type": "code",
   "execution_count": 12,
   "metadata": {},
   "outputs": [
    {
     "name": "stdout",
     "output_type": "stream",
     "text": [
      "True\n",
      "False\n"
     ]
    }
   ],
   "source": [
    "# 2번 풀이 : 정렬을 이용한 방법 \n",
    "# 시간복잡도 : nlog(n) + n\n",
    "\n",
    "def TwoSum(nums,target) :\n",
    "  nums.sort()\n",
    "  L,R = 0, len(nums)-1\n",
    "  while(L<R):\n",
    "    result = nums[L]+nums[R]\n",
    "    if result < target :\n",
    "      L+=1\n",
    "    elif result > target :\n",
    "      R-=1\n",
    "    elif result == target:\n",
    "      return True\n",
    "  return False\n",
    "\n",
    "print(TwoSum([4,1,9,7,5,3,16],14))\n",
    "print(TwoSum([2,1,5,7],4))"
   ]
  },
  {
   "cell_type": "markdown",
   "metadata": {},
   "source": [
    "#### Linked List"
   ]
  },
  {
   "cell_type": "markdown",
   "metadata": {},
   "source": [
    "##### Node의 구조\n",
    "![node](./problem-img/node.png)"
   ]
  },
  {
   "cell_type": "code",
   "execution_count": 41,
   "metadata": {},
   "outputs": [],
   "source": [
    "# 노드 표현\n",
    "class Node:\n",
    "  def __init__(self, value = 0, next = None) :\n",
    "    self.value = value\n",
    "    self.next = next\n",
    "\n",
    "# 노드 활용 예시\n",
    "def node_play():\n",
    "  first = Node(1)\n",
    "  second = Node(2)\n",
    "  third = Node(3)\n",
    "  first.next = second\n",
    "  second.next = third\n",
    "  first.value=6"
   ]
  },
  {
   "cell_type": "markdown",
   "metadata": {},
   "source": [
    "##### Linked List의 구조\n",
    "![linked list](./problem-img/LinkedList.png)"
   ]
  },
  {
   "cell_type": "code",
   "execution_count": 58,
   "metadata": {},
   "outputs": [
    {
     "name": "stdout",
     "output_type": "stream",
     "text": [
      "1\n",
      "1\n",
      "2\n",
      "2\n"
     ]
    }
   ],
   "source": [
    "class LinkedList(object):\n",
    "  def __init__(self) :\n",
    "    self.head = None\n",
    "  def append(self, value):\n",
    "    new_node = Node(value)\n",
    "    if self.head is None :\n",
    "      self.head = new_node #왜 new_node.node가 아닌거지?\n",
    "    else:\n",
    "      current = self.head\n",
    "      while current.next: #다음 node가 없을 때까지..\n",
    "        current = current.next\n",
    "      current.next = new_node\n",
    "  def get(self, idx):\n",
    "    current = self.head\n",
    "    for _ in range(idx):\n",
    "      current = current.next\n",
    "    return current.value\n",
    "  def insert(self, idx, value):\n",
    "    insert_node = Node(value)\n",
    "    current = self.head\n",
    "    if idx == 0:\n",
    "      insert_node.next = current\n",
    "      self.head = insert_node\n",
    "    else : \n",
    "      for _ in range(idx-1):\n",
    "        current = current.next\n",
    "      insert_node.next = current.next\n",
    "      current.next = insert_node\n",
    "  def remove(self,idx):\n",
    "    current = self.head\n",
    "    for _ in range(idx-1):\n",
    "      current = current.next\n",
    "    current.next = current.next.next\n",
    "\n",
    "    \n",
    "first = Node(1)\n",
    "second = Node(2)\n",
    "third = Node(3)\n",
    "first.next = second\n",
    "second.next = third\n",
    "first.value=6\n",
    "\n",
    "ll = LinkedList()\n",
    "ll.append(1)\n",
    "ll.append(2)\n",
    "print(ll.get(0))\n",
    "ll.insert(idx=0,value=4)\n",
    "print(ll.get(1))\n",
    "print(ll.get(2))\n",
    "\n",
    "ll.remove(1)\n",
    "print(ll.get(1))\n"
   ]
  },
  {
   "cell_type": "code",
   "execution_count": 59,
   "metadata": {},
   "outputs": [],
   "source": [
    "class LinkedList(object) :\n",
    "  def __init__ (self):\n",
    "    self.head = None\n",
    "    self.tail = None\n",
    "  def append(self, value):\n",
    "    new_node = Node(value)\n",
    "    if self.head is None :\n",
    "      self.head = new_node\n",
    "      self.tail = new_node\n",
    "    else :\n",
    "      self.tail.next = new_node\n",
    "      self.tail = self.tail.next \n",
    "    \n",
    "ll = LinkedList()\n",
    "ll.append(1)\n",
    "ll.append(2)\n",
    "ll.append(3)\n"
   ]
  },
  {
   "cell_type": "markdown",
   "metadata": {},
   "source": [
    "### 실전 코드 구현\n",
    "\n",
    "![Linked List Problem](./problem-img/Design%20Browser%20History.png)"
   ]
  },
  {
   "cell_type": "code",
   "execution_count": 14,
   "metadata": {},
   "outputs": [],
   "source": [
    "# 주어진 코드 \n",
    "class ListNode(object):\n",
    "  def __init__ (self, val=0, next=None, prev=None):\n",
    "    self.val = val\n",
    "    self.next = next\n",
    "    self.prev = prev \n",
    "\n",
    "class BrowserHistory(object):\n",
    "  def __init__ (self, homepage):\n",
    "    \"\"\"\n",
    "    :type homepage: str\n",
    "    \"\"\"\n",
    "    self.head = self.current = ListNode(val = homepage)\n",
    "  def visit(self, url):\n",
    "    \"\"\"\n",
    "    :type url: str\n",
    "    :rtype: None\n",
    "    \"\"\" \n",
    "    self.current.next = ListNode(val = url, prev=self.current)\n",
    "    self.current = self.current.next\n",
    "    return None\n",
    "\n",
    "  def back(self, steps):\n",
    "    \"\"\"\n",
    "    :type steps: int\n",
    "    :rtype: str\n",
    "    \"\"\"\n",
    "    while steps > 0 and self.current.prev != self.head.prev :\n",
    "      steps -= 1 \n",
    "      self.current = self.current.prev\n",
    "    return self.current.val \n",
    "  def forward(self,steps):\n",
    "    \"\"\"\n",
    "    :type steps: int\n",
    "    :rtype: str\n",
    "    \"\"\"\n",
    "    while steps > 0 and self.current.next != None :\n",
    "      steps-=1\n",
    "      self.current = self.current.next\n",
    "    return self.current.val"
   ]
  },
  {
   "cell_type": "code",
   "execution_count": 15,
   "metadata": {},
   "outputs": [
    {
     "name": "stdout",
     "output_type": "stream",
     "text": [
      "<__main__.ListNode object at 0x0000028A97967250>\n",
      "None\n",
      "None\n",
      "None\n",
      "facebook.com\n",
      "google.com\n",
      "facebook.com\n",
      "None\n",
      "linkedin.com\n",
      "google.com\n",
      "leetcode.com\n"
     ]
    },
    {
     "ename": "",
     "evalue": "",
     "output_type": "error",
     "traceback": [
      "\u001b[1;31m현재 셀 또는 이전 셀에서 코드를 실행하는 동안 Kernel이 충돌했습니다. 셀의 코드를 검토하여 오류의 가능한 원인을 식별하세요. 자세한 내용을 보려면 <a href='https://aka.ms/vscodeJupyterKernelCrash'> 여기 </a> 를 클릭하세요. 자세한 내용은 Jupyter <a href='command:jupyter.viewOutput'>로그</a>를 참조하세요."
     ]
    }
   ],
   "source": [
    "#입력 값\n",
    "browserHistory = BrowserHistory(\"leetcode.com\")\n",
    "print(browserHistory.head)\n",
    "print(browserHistory.visit(\"google.com\"))\n",
    "print(browserHistory.visit(\"facebook.com\"))\n",
    "print(browserHistory.visit(\"youtube.com\"))\n",
    "print(browserHistory.back(1))\n",
    "print(browserHistory.back(1))\n",
    "print(browserHistory.forward(1))\n",
    "print(browserHistory.visit(\"linkedin.com\"))\n",
    "print(browserHistory.forward(2))\n",
    "print(browserHistory.back(2))\n",
    "print(browserHistory.back(7))"
   ]
  },
  {
   "cell_type": "code",
   "execution_count": null,
   "metadata": {},
   "outputs": [],
   "source": []
  }
 ],
 "metadata": {
  "kernelspec": {
   "display_name": "Python 3",
   "language": "python",
   "name": "python3"
  },
  "language_info": {
   "codemirror_mode": {
    "name": "ipython",
    "version": 3
   },
   "file_extension": ".py",
   "mimetype": "text/x-python",
   "name": "python",
   "nbconvert_exporter": "python",
   "pygments_lexer": "ipython3",
   "version": "3.11.4"
  },
  "orig_nbformat": 4
 },
 "nbformat": 4,
 "nbformat_minor": 2
}
