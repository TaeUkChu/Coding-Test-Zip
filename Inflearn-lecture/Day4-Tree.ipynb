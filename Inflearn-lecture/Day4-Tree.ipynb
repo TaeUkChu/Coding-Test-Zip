{
 "cells": [
  {
   "cell_type": "markdown",
   "metadata": {},
   "source": [
    "### Tree 기본 구조"
   ]
  },
  {
   "cell_type": "code",
   "execution_count": 13,
   "metadata": {},
   "outputs": [],
   "source": [
    "class Node :\n",
    "\tdef __init__(self, value = 0, left = None, right = None):\n",
    "\t\tself.value = value\n",
    "\t\tself.left = left\n",
    "\t\tself.right = right\n",
    "\n",
    "class BinaryTree:\n",
    "\tdef __init__(self):\n",
    "\t\tself.root = None\n",
    "\n",
    "bt = BinaryTree()\n",
    "bt.root = Node(1)\n",
    "bt.root.left = Node(2)\n",
    "bt.root.right = Node(3)\n",
    "bt.root.left.left = Node(4)\n",
    "bt.root.left.right = Node(5)\n",
    "bt.root.left.right.left = Node(6)"
   ]
  },
  {
   "cell_type": "code",
   "execution_count": 5,
   "metadata": {},
   "outputs": [
    {
     "data": {
      "text/plain": [
       "4"
      ]
     },
     "execution_count": 5,
     "metadata": {},
     "output_type": "execute_result"
    }
   ],
   "source": [
    "bt.root.left.left.value"
   ]
  },
  {
   "cell_type": "markdown",
   "metadata": {},
   "source": [
    "### BFS 기본 구조"
   ]
  },
  {
   "cell_type": "code",
   "execution_count": 18,
   "metadata": {},
   "outputs": [
    {
     "data": {
      "text/plain": [
       "[1, 2, 3, 4, 5]"
      ]
     },
     "execution_count": 18,
     "metadata": {},
     "output_type": "execute_result"
    }
   ],
   "source": [
    "from collections import deque\n",
    "\n",
    "def bfs(root):\n",
    "  visited = []\n",
    "  if root is None :\n",
    "    return 0\n",
    "  q = deque()\n",
    "  q.append(root)\n",
    "  while q:\n",
    "    cur_node = q.popleft()\n",
    "    visited.append(cur_node.value)\n",
    "\n",
    "    if cur_node.left :\n",
    "      q.append(cur_node.left)\n",
    "    if cur_node.right :\n",
    "      q.append(cur_node.right)\n",
    "  return visited\n",
    "\n",
    "bfs(bt.root)"
   ]
  },
  {
   "cell_type": "markdown",
   "metadata": {},
   "source": [
    "### DFS 기본 구조"
   ]
  },
  {
   "cell_type": "code",
   "execution_count": null,
   "metadata": {},
   "outputs": [],
   "source": [
    "def dfs(node):\n",
    "\tif node is None :\n",
    "\t\treturn\n",
    "\tdfs(node.left)\n",
    "\tdfs(node.right)\n",
    "\n",
    "# dfs(root)"
   ]
  },
  {
   "cell_type": "markdown",
   "metadata": {},
   "source": [
    "#### 전위 순회 (pre-order)"
   ]
  },
  {
   "cell_type": "code",
   "execution_count": null,
   "metadata": {},
   "outputs": [],
   "source": [
    "def preorder(node) :\n",
    "\tif node is None:\n",
    "\t\treturn\n",
    "\tprint(node.value)\n",
    "\tpreorder(node.left)\n",
    "\tpreorder(node.left)"
   ]
  },
  {
   "cell_type": "markdown",
   "metadata": {},
   "source": [
    "#### 중위 순회 (in-order)"
   ]
  },
  {
   "cell_type": "code",
   "execution_count": 19,
   "metadata": {},
   "outputs": [
    {
     "ename": "SyntaxError",
     "evalue": "invalid syntax (2981480208.py, line 1)",
     "output_type": "error",
     "traceback": [
      "\u001b[1;36m  Cell \u001b[1;32mIn[19], line 1\u001b[1;36m\u001b[0m\n\u001b[1;33m    후위 순회 (post-order)\u001b[0m\n\u001b[1;37m       ^\u001b[0m\n\u001b[1;31mSyntaxError\u001b[0m\u001b[1;31m:\u001b[0m invalid syntax\n"
     ]
    }
   ],
   "source": [
    "def inorder(node) :\n",
    "\tif node is None:\n",
    "\t\treturn\n",
    "\tinorder(node.left)\n",
    "\tprint(node.value)\n",
    "\tinorder(node.left)"
   ]
  },
  {
   "cell_type": "markdown",
   "metadata": {},
   "source": [
    "#### 후위 순회 (post-order)"
   ]
  },
  {
   "cell_type": "code",
   "execution_count": null,
   "metadata": {},
   "outputs": [],
   "source": [
    "def postorder(node) :\n",
    "\tif node is None:\n",
    "\t\treturn\n",
    "\tpostorder(node.left)\n",
    "\tpostorder(node.left)\n",
    "\tprint(node.value)\n"
   ]
  },
  {
   "cell_type": "markdown",
   "metadata": {},
   "source": [
    "### TREE 기본 문제 1\n",
    "![](./problem-img/Maximum%20depth%20of%20BT.png)"
   ]
  },
  {
   "cell_type": "markdown",
   "metadata": {},
   "source": [
    "#### BFS 코드 구현"
   ]
  },
  {
   "cell_type": "code",
   "execution_count": 15,
   "metadata": {},
   "outputs": [
    {
     "data": {
      "text/plain": [
       "4"
      ]
     },
     "execution_count": 15,
     "metadata": {},
     "output_type": "execute_result"
    }
   ],
   "source": [
    "from collections import deque\n",
    "\n",
    "def bfs_tree_max_depth(root):\n",
    "  max_depth = 0\n",
    "  if root is None :\n",
    "    return 0\n",
    "  q = deque()\n",
    "  q.append((root,1))\n",
    "\n",
    "  while q:\n",
    "    cur_node,cur_depth = q.popleft()\n",
    "    max_depth = max(max_depth,cur_depth)\n",
    "\n",
    "    if cur_node.left :\n",
    "      q.append((cur_node.left,cur_depth+1))\n",
    "    if cur_node.right :\n",
    "      q.append((cur_node.right,cur_depth+1))\n",
    "\n",
    "  return max_depth\n",
    "\n",
    "bfs_tree_max_depth(bt.root)"
   ]
  },
  {
   "cell_type": "markdown",
   "metadata": {},
   "source": [
    "#### DFS 코드 구현"
   ]
  },
  {
   "cell_type": "code",
   "execution_count": 18,
   "metadata": {},
   "outputs": [
    {
     "data": {
      "text/plain": [
       "4"
      ]
     },
     "execution_count": 18,
     "metadata": {},
     "output_type": "execute_result"
    }
   ],
   "source": [
    "depth = 0\n",
    "\n",
    "def dfs_tree_max_depth(root):\n",
    "  if root is None :\n",
    "    return 0\n",
    "  l = dfs_tree_max_depth(root.left)\n",
    "  r = dfs_tree_max_depth(root.right)\n",
    "  return max(l,r)+1\n",
    "\n",
    "dfs_tree_max_depth(bt.root)"
   ]
  },
  {
   "cell_type": "markdown",
   "metadata": {},
   "source": [
    "#### "
   ]
  }
 ],
 "metadata": {
  "kernelspec": {
   "display_name": "Python 3",
   "language": "python",
   "name": "python3"
  },
  "language_info": {
   "codemirror_mode": {
    "name": "ipython",
    "version": 3
   },
   "file_extension": ".py",
   "mimetype": "text/x-python",
   "name": "python",
   "nbconvert_exporter": "python",
   "pygments_lexer": "ipython3",
   "version": "3.11.4"
  }
 },
 "nbformat": 4,
 "nbformat_minor": 2
}
