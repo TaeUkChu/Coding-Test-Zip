{
 "cells": [
  {
   "cell_type": "code",
   "execution_count": 7,
   "metadata": {},
   "outputs": [
    {
     "name": "stdout",
     "output_type": "stream",
     "text": [
      "97\n",
      "45\n",
      "80\n",
      "False\n"
     ]
    }
   ],
   "source": [
    "# Dictionory 예시\n",
    "score = {\n",
    "  'math':97,\n",
    "  'eng':97,\n",
    "  'kor':80\n",
    "}\n",
    "print(score['math'])\n",
    "score['math'] = 45\n",
    "print(score['math'])\n",
    "score['science'] = 80\n",
    "print(score['science'])\n",
    "\n",
    "print('music' in score)"
   ]
  },
  {
   "cell_type": "markdown",
   "metadata": {},
   "source": [
    "#### 문제 1 : TwoSum\n",
    "![](./problem-img/Two-sum.png)"
   ]
  },
  {
   "cell_type": "code",
   "execution_count": 56,
   "metadata": {},
   "outputs": [
    {
     "name": "stdout",
     "output_type": "stream",
     "text": [
      "[2, 4]\n",
      "[2, 4]\n",
      "[0, 1]\n",
      "[1, 2]\n",
      "[0, 3]\n"
     ]
    }
   ],
   "source": [
    "class Solution(object):\n",
    "    def twoSum(self, nums, target):\n",
    "        \"\"\"\n",
    "        :type nums: List[int]\n",
    "        :type target: int\n",
    "        :rtype: List[int]\n",
    "        \"\"\"\n",
    "        nums_dict = {}\n",
    "\n",
    "        for v in nums :\n",
    "            nums_dict[v] = 0\n",
    "        for idx,v in enumerate(nums) :\n",
    "            compare_num = target-v\n",
    "            if compare_num in nums_dict :\n",
    "                if v == compare_num :\n",
    "                    if nums.count(compare_num) != 2 :\n",
    "                        continue\n",
    "                answer = [nums.index(v),nums.index(compare_num,idx+1,len(nums))]\n",
    "                return answer\n",
    "        return False\n",
    "\n",
    "print(hashTable([4,1,9,7,5,3,16],14))\n",
    "print(hashTable([1,5,2,7,2],4))\n",
    "print(hashTable([3,3],6))\n",
    "print(hashTable([3,2,4],6))\n",
    "print(hashTable([0,4,3,0],0))\n"
   ]
  },
  {
   "cell_type": "code",
   "execution_count": 22,
   "metadata": {},
   "outputs": [
    {
     "data": {
      "text/plain": [
       "0"
      ]
     },
     "execution_count": 22,
     "metadata": {},
     "output_type": "execute_result"
    }
   ],
   "source": [
    "li = [2,2,3]\n",
    "li.count(1)\n",
    "\n",
    "li.index(2)"
   ]
  },
  {
   "cell_type": "markdown",
   "metadata": {},
   "source": [
    "### 문제 2 : Longest Consecutive Sequence\n",
    "![](./problem-img/Longest_Consecutive_Sequence.png)"
   ]
  },
  {
   "cell_type": "code",
   "execution_count": 7,
   "metadata": {},
   "outputs": [
    {
     "data": {
      "text/plain": [
       "4"
      ]
     },
     "execution_count": 7,
     "metadata": {},
     "output_type": "execute_result"
    }
   ],
   "source": [
    "def find_longest(nums):\n",
    "  #딕셔너리 저장\n",
    "  # for i in nums :\n",
    "  #   num_dict[i] = 0\n",
    "  num_dict = dict.fromkeys(nums)\n",
    "  answer = 0\n",
    "  for num in nums:\n",
    "    #처음 시작 찾기\n",
    "    if num-1 not in num_dict:\n",
    "      cnt = 1\n",
    "      next = num+1\n",
    "      #다음 값 있으면 값 올리기.\n",
    "      while next in num_dict:\n",
    "        cnt+=1\n",
    "        next+=1\n",
    "      #while 끝나면 값 저장하기\n",
    "      answer = max(answer,cnt)\n",
    "  return answer\n",
    "\n",
    "test_array = [0,0,2,3,-3,-2,-1,20,-4,21]\n",
    "find_longest(test_array)\n",
    "find_longest([6,7,100,5,4,4])\n"
   ]
  },
  {
   "cell_type": "code",
   "execution_count": 14,
   "metadata": {},
   "outputs": [
    {
     "data": {
      "text/plain": [
       "4"
      ]
     },
     "execution_count": 14,
     "metadata": {},
     "output_type": "execute_result"
    }
   ],
   "source": [
    "# sort() 이용.\n",
    "#중복제거 후 정렬\n",
    "def find_longest2(nums):\n",
    "\tnums = list(set(nums))\n",
    "\tnums.sort()\n",
    "\tcnt = 0\n",
    "\tidx=0\n",
    "\tmax_cnt = 0\n",
    "\twhile idx < len(nums)-1:\n",
    "\t\tif nums[idx]+1 == nums[idx+1]:\n",
    "\t\t\tidx += 1\n",
    "\t\t\tcnt += 1\n",
    "\t\telse :\n",
    "\t\t\tcnt = 0\n",
    "\t\t\tidx += 1\n",
    "\t\tmax_cnt = max(max_cnt,cnt)\n",
    "\treturn max_cnt\n",
    "\n",
    "test_array = [0,0,2,3,-3,-2,-1,20,-4,21]\n",
    "find_longest2(test_array)\n"
   ]
  },
  {
   "cell_type": "code",
   "execution_count": null,
   "metadata": {},
   "outputs": [],
   "source": []
  }
 ],
 "metadata": {
  "kernelspec": {
   "display_name": "Python 3",
   "language": "python",
   "name": "python3"
  },
  "language_info": {
   "codemirror_mode": {
    "name": "ipython",
    "version": 3
   },
   "file_extension": ".py",
   "mimetype": "text/x-python",
   "name": "python",
   "nbconvert_exporter": "python",
   "pygments_lexer": "ipython3",
   "version": "3.11.4"
  }
 },
 "nbformat": 4,
 "nbformat_minor": 2
}
