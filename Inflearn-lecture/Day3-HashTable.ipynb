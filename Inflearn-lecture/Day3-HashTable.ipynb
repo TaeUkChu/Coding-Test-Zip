{
 "cells": [
  {
   "cell_type": "code",
   "execution_count": 7,
   "metadata": {},
   "outputs": [
    {
     "name": "stdout",
     "output_type": "stream",
     "text": [
      "97\n",
      "45\n",
      "80\n",
      "False\n"
     ]
    }
   ],
   "source": [
    "# Dictionory 예시\n",
    "score = {\n",
    "  'math':97,\n",
    "  'eng':97,\n",
    "  'kor':80\n",
    "}\n",
    "print(score['math'])\n",
    "score['math'] = 45\n",
    "print(score['math'])\n",
    "score['science'] = 80\n",
    "print(score['science'])\n",
    "\n",
    "print('music' in score)"
   ]
  },
  {
   "cell_type": "markdown",
   "metadata": {},
   "source": [
    "#### 문제 1 : TwoSum\n",
    "![](./problem-img/Two-sum.png)"
   ]
  },
  {
   "cell_type": "code",
   "execution_count": 56,
   "metadata": {},
   "outputs": [
    {
     "name": "stdout",
     "output_type": "stream",
     "text": [
      "[2, 4]\n",
      "[2, 4]\n",
      "[0, 1]\n",
      "[1, 2]\n",
      "[0, 3]\n"
     ]
    }
   ],
   "source": [
    "class Solution(object):\n",
    "    def twoSum(self, nums, target):\n",
    "        \"\"\"\n",
    "        :type nums: List[int]\n",
    "        :type target: int\n",
    "        :rtype: List[int]\n",
    "        \"\"\"\n",
    "        nums_dict = {}\n",
    "\n",
    "        for v in nums :\n",
    "            nums_dict[v] = 0\n",
    "        for idx,v in enumerate(nums) :\n",
    "            compare_num = target-v\n",
    "            if compare_num in nums_dict :\n",
    "                if v == compare_num :\n",
    "                    if nums.count(compare_num) != 2 :\n",
    "                        continue\n",
    "                answer = [nums.index(v),nums.index(compare_num,idx+1,len(nums))]\n",
    "                return answer\n",
    "        return False\n",
    "\n",
    "print(hashTable([4,1,9,7,5,3,16],14))\n",
    "print(hashTable([1,5,2,7,2],4))\n",
    "print(hashTable([3,3],6))\n",
    "print(hashTable([3,2,4],6))\n",
    "print(hashTable([0,4,3,0],0))\n"
   ]
  },
  {
   "cell_type": "code",
   "execution_count": 22,
   "metadata": {},
   "outputs": [
    {
     "data": {
      "text/plain": [
       "0"
      ]
     },
     "execution_count": 22,
     "metadata": {},
     "output_type": "execute_result"
    }
   ],
   "source": [
    "li = [2,2,3]\n",
    "li.count(1)\n",
    "\n",
    "li.index(2)"
   ]
  },
  {
   "cell_type": "code",
   "execution_count": null,
   "metadata": {},
   "outputs": [],
   "source": []
  }
 ],
 "metadata": {
  "kernelspec": {
   "display_name": "Python 3",
   "language": "python",
   "name": "python3"
  },
  "language_info": {
   "codemirror_mode": {
    "name": "ipython",
    "version": 3
   },
   "file_extension": ".py",
   "mimetype": "text/x-python",
   "name": "python",
   "nbconvert_exporter": "python",
   "pygments_lexer": "ipython3",
   "version": "3.11.4"
  }
 },
 "nbformat": 4,
 "nbformat_minor": 2
}
