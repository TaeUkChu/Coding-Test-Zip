{
 "cells": [
  {
   "cell_type": "code",
   "execution_count": null,
   "metadata": {},
   "outputs": [],
   "source": [
    "def insertion_sort(arr):\n",
    "    n= len(arr)\n",
    "    for i in range(1,n):\n",
    "        key = arr[i]\n",
    "        j = i-1\n",
    "        while j >= 0 and arr[j] > key:\n",
    "            arr[j+1] = arr[j]\n",
    "            j -= 1\n",
    "            \n",
    "        arr[j+1] = key\n",
    "            "
   ]
  },
  {
   "cell_type": "code",
   "execution_count": 16,
   "metadata": {},
   "outputs": [
    {
     "name": "stdout",
     "output_type": "stream",
     "text": [
      "6210\n",
      "<class 'int'>\n"
     ]
    }
   ],
   "source": [
    "numbers = [6, 10, 2]\n",
    "\n",
    "numbers = list(map(str,numbers))\n",
    "numbers.sort(key=lambda x : x*3,  reverse=True)\n",
    "answer  = int(''.join(numbers))\n",
    "\n",
    "\n",
    "print(answer)\n",
    "print(type(answer))\n",
    "\n",
    "            \n",
    "            \n",
    "\n",
    "# 6, [None, 10, 2]\n",
    "# 10, [6, None, 2]\n",
    "# 2, [6, 10, None]\n",
    "\n",
    "    \n",
    "    "
   ]
  },
  {
   "cell_type": "code",
   "execution_count": 6,
   "metadata": {},
   "outputs": [
    {
     "name": "stdout",
     "output_type": "stream",
     "text": [
      "[10, 6, 2]\n",
      "['6', '2', '10']\n"
     ]
    }
   ],
   "source": [
    "arr_int = [6, 10, 2]\n",
    "arr_str = [\"6\", \"10\", \"2\"]\n",
    "\n",
    "arr_int.sort(reverse=True) \n",
    "arr_str.sort(reverse=True)\n",
    "\n",
    "print(arr_int)\n",
    "print(arr_str)"
   ]
  },
  {
   "cell_type": "code",
   "execution_count": null,
   "metadata": {},
   "outputs": [],
   "source": []
  }
 ],
 "metadata": {
  "kernelspec": {
   "display_name": "base",
   "language": "python",
   "name": "python3"
  },
  "language_info": {
   "codemirror_mode": {
    "name": "ipython",
    "version": 3
   },
   "file_extension": ".py",
   "mimetype": "text/x-python",
   "name": "python",
   "nbconvert_exporter": "python",
   "pygments_lexer": "ipython3",
   "version": "3.11.5"
  }
 },
 "nbformat": 4,
 "nbformat_minor": 2
}
