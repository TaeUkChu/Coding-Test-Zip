{
 "cells": [
  {
   "cell_type": "code",
   "execution_count": null,
   "metadata": {},
   "outputs": [],
   "source": [
    "def insertion_sort(arr):\n",
    "    n= len(arr)\n",
    "    for i in range(1,n):\n",
    "        key = arr[i]\n",
    "        j = i-1\n",
    "        while j >= 0 and arr[j] > key:\n",
    "            arr[j+1] = arr[j]\n",
    "            j -= 1\n",
    "            \n",
    "        arr[j+1] = key\n",
    "            "
   ]
  },
  {
   "cell_type": "code",
   "execution_count": 18,
   "metadata": {},
   "outputs": [
    {
     "name": "stdout",
     "output_type": "stream",
     "text": [
      "[None, 10, 2]\n",
      "[None, 10, 2]\n",
      "[None, 10, 2]\n",
      "[6, None, 2]\n",
      "[6, None, 2]\n",
      "[6, None, 2]\n",
      "[6, 10, None]\n",
      "[6, 10, None]\n",
      "[6, 10, None]\n"
     ]
    }
   ],
   "source": [
    "numbers = [6, 10, 2]\n",
    "\n",
    "answer  = []\n",
    "\n",
    "\n",
    "for i in range(len(numbers)):\n",
    "    key = numbers[i]\n",
    "    update_number = numbers[:i] + [None]+ numbers[i+1:]\n",
    "    for j in range(len(update_number)):\n",
    "            \n",
    "            \n",
    "        \n",
    "    \n",
    "    \n",
    "# 6, [None, 10, 2]\n",
    "# 10, [6, None, 2]\n",
    "# 2, [6, 10, None]\n",
    "\n",
    "    \n",
    "    "
   ]
  },
  {
   "cell_type": "code",
   "execution_count": null,
   "metadata": {},
   "outputs": [],
   "source": [
    "[None, 10, 2]\n",
    "[None, 10, 2]\n",
    "[None, 10, 2]\n",
    "[6, None, 2]\n",
    "[6, None, 2]\n",
    "[6, None, 2]\n",
    "[6, 10, None]\n",
    "[6, 10, None]\n",
    "[6, 10, None]"
   ]
  }
 ],
 "metadata": {
  "kernelspec": {
   "display_name": "base",
   "language": "python",
   "name": "python3"
  },
  "language_info": {
   "codemirror_mode": {
    "name": "ipython",
    "version": 3
   },
   "file_extension": ".py",
   "mimetype": "text/x-python",
   "name": "python",
   "nbconvert_exporter": "python",
   "pygments_lexer": "ipython3",
   "version": "3.11.5"
  }
 },
 "nbformat": 4,
 "nbformat_minor": 2
}
