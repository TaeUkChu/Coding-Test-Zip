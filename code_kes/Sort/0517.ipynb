{
 "cells": [
  {
   "cell_type": "code",
   "execution_count": 2,
   "metadata": {},
   "outputs": [],
   "source": [
    "# 문제 : https://school.programmers.co.kr/learn/courses/30/lessons/42748\n",
    "# 정리 : https://velog.io/@uiseoo/정렬-K번째수-Level-1\n",
    "\n",
    "array = [1, 5, 2, 6, 3, 7, 4]\n",
    "commands = [[2, 5, 3], [4, 4, 1], [1, 7, 3]]\n",
    "answer = []\n",
    "\n",
    "def selection_sort(arr): # 최솟값을 리스트의 첫번째 요소와 바꾸어 준다.\n",
    "    \n",
    "    n = len(arr)    \n",
    "    \n",
    "    for idx in range(n-1): # idx는 정렬되지 않은 부분의 시작 인덱스 \n",
    "        least = idx        # 최솟값의 인덱스 초기화\n",
    "\n",
    "        for next_idx in range(idx+1, n): # idx의 다음 요소부터 비교한다.\n",
    "            if arr[next_idx] < arr[least]:\n",
    "                least = next_idx      # 최솟값의 인덱스 업데이트 및 확인\n",
    "            \n",
    "        arr[idx], arr[least] = arr[least], arr[idx] # 최솟값과 리스트의 첫 요소와 바꾸어 준다.\n",
    "    \n",
    "    return arr"
   ]
  },
  {
   "cell_type": "code",
   "execution_count": 13,
   "metadata": {},
   "outputs": [
    {
     "name": "stdout",
     "output_type": "stream",
     "text": [
      "[2, 3, 5, 6]\n",
      "5\n"
     ]
    },
    {
     "ename": "TypeError",
     "evalue": "list.append() takes exactly one argument (0 given)",
     "output_type": "error",
     "traceback": [
      "\u001b[0;31m---------------------------------------------------------------------------\u001b[0m",
      "\u001b[0;31mTypeError\u001b[0m                                 Traceback (most recent call last)",
      "Cell \u001b[0;32mIn[13], line 12\u001b[0m\n\u001b[1;32m     10\u001b[0m     order \u001b[38;5;241m=\u001b[39m sorted_arr[k\u001b[38;5;241m-\u001b[39m\u001b[38;5;241m1\u001b[39m]\n\u001b[1;32m     11\u001b[0m     \u001b[38;5;28mprint\u001b[39m(order)\n\u001b[0;32m---> 12\u001b[0m     answer\u001b[38;5;241m.\u001b[39mappend()\n\u001b[1;32m     14\u001b[0m \u001b[38;5;28mprint\u001b[39m(answer)\n",
      "\u001b[0;31mTypeError\u001b[0m: list.append() takes exactly one argument (0 given)"
     ]
    }
   ],
   "source": [
    "for command in commands:\n",
    "    i, j, k = command\n",
    "    \n",
    "    arr = array[i-1:j]\n",
    "    sorted_arr = selection_sort(arr)\n",
    "    \n",
    "    print(sorted_arr)\n",
    "    order = sorted_arr[k-1]\n",
    "    print(order)\n",
    "    answer.append()\n",
    "\n",
    "print(answer)"
   ]
  },
  {
   "cell_type": "code",
   "execution_count": 17,
   "metadata": {},
   "outputs": [
    {
     "name": "stdout",
     "output_type": "stream",
     "text": [
      "0\n",
      "1\n",
      "2\n",
      "3\n",
      "4\n",
      "5\n",
      "6\n",
      "7\n",
      "8\n",
      "9\n"
     ]
    }
   ],
   "source": [
    "for i in range(10):\n",
    "    print(i)"
   ]
  },
  {
   "cell_type": "code",
   "execution_count": null,
   "metadata": {},
   "outputs": [],
   "source": []
  }
 ],
 "metadata": {
  "kernelspec": {
   "display_name": "base",
   "language": "python",
   "name": "python3"
  },
  "language_info": {
   "codemirror_mode": {
    "name": "ipython",
    "version": 3
   },
   "file_extension": ".py",
   "mimetype": "text/x-python",
   "name": "python",
   "nbconvert_exporter": "python",
   "pygments_lexer": "ipython3",
   "version": "3.11.5"
  }
 },
 "nbformat": 4,
 "nbformat_minor": 2
}
