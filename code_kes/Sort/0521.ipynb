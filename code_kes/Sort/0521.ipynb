{
 "cells": [
  {
   "cell_type": "code",
   "execution_count": 5,
   "metadata": {},
   "outputs": [
    {
     "name": "stdout",
     "output_type": "stream",
     "text": [
      "0 6\n",
      "1 5\n",
      "2 3\n",
      "3 1\n",
      "4 0\n"
     ]
    }
   ],
   "source": [
    "# 문제 : https://school.programmers.co.kr/learn/courses/30/parts/12198\n",
    "\n",
    "# def selection_sort(arr):\n",
    "#     n = len(arr)\n",
    "#     for  i in range(n-1):\n",
    "#         least = i\n",
    "        \n",
    "#         for j in range(i+1, n):\n",
    "#             if arr[least] > arr[j]:\n",
    "#                 least = j\n",
    "                \n",
    "#         arr[i], arr[least] = arr[least], arr[i]\n",
    "        \n",
    "#     return arr\n",
    "\n",
    "citations = [3, 0, 6, 1, 5]\n",
    "\n",
    "sorted = citations.sort(reverse=True)\n",
    "\n",
    "for idx, citation in enumerate(citations):\n",
    "    print(idx, citation)\n",
    "    if citation >= idx+1:\n",
    "        h_idx = idx+1\n",
    "        answer = h_idx\n"
   ]
  },
  {
   "cell_type": "code",
   "execution_count": null,
   "metadata": {},
   "outputs": [],
   "source": []
  }
 ],
 "metadata": {
  "kernelspec": {
   "display_name": "base",
   "language": "python",
   "name": "python3"
  },
  "language_info": {
   "codemirror_mode": {
    "name": "ipython",
    "version": 3
   },
   "file_extension": ".py",
   "mimetype": "text/x-python",
   "name": "python",
   "nbconvert_exporter": "python",
   "pygments_lexer": "ipython3",
   "version": "3.11.5"
  }
 },
 "nbformat": 4,
 "nbformat_minor": 2
}
