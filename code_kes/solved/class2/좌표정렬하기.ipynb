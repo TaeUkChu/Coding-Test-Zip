{
 "cells": [
  {
   "cell_type": "code",
   "execution_count": null,
   "metadata": {},
   "outputs": [],
   "source": [
    "# 퀵정렬\n",
    "\n",
    "def quick(arr):\n",
    "    \n",
    "    if len(arr) <= 1: # 종료 조건\n",
    "        return arr\n",
    "    \n",
    "    pivot =arr[len(arr)//2]\n",
    "    \n",
    "    left = [x for x in arr if x < pivot]\n",
    "    middle = [x for x in arr if x == pivot]\n",
    "    # middle.sorit(key=x[1])\n",
    "    right = [x for x in arr if x > pivot]\n",
    "    \n",
    "    return left + middle + right\n",
    "\n",
    "\n",
    "    \n",
    "    "
   ]
  }
 ],
 "metadata": {
  "language_info": {
   "name": "python"
  }
 },
 "nbformat": 4,
 "nbformat_minor": 2
}
