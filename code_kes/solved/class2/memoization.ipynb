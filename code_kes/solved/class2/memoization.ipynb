{
 "cells": [
  {
   "cell_type": "code",
   "execution_count": 3,
   "metadata": {},
   "outputs": [
    {
     "name": "stdout",
     "output_type": "stream",
     "text": [
      "층과 호수가 저장된 {(3, 4): 4}\n",
      "memo에 저장된 값 불러 오기 4\n"
     ]
    }
   ],
   "source": [
    "# momoiztion 구조 파악\n",
    "\n",
    "# 1. 입력 형태마다 dictionary는 어떻게 저장 되는가?\n",
    "\n",
    "# (1) memo[(floor, number)]으로 2개의 값을 튜플로 묶어 key로 저장하기\n",
    "\n",
    "memo = {}\n",
    "\n",
    "floor = 3\n",
    "number = 4\n",
    "temp = 4\n",
    "\n",
    "memo[(floor, number)] = temp\n",
    "\n",
    "print(\"층과 호수가 저장된\", memo)\n",
    "# 출력 : 층과 호수가 저장된 {(3, 4): 4}\n",
    "\n",
    "print(\"memo에 저장된 값 불러 오기\", memo[(floor, number)])\n",
    "# 출력 : memo에 저장된 값 불러 오기 4\n",
    "\n",
    "\n",
    "\n"
   ]
  },
  {
   "cell_type": "code",
   "execution_count": 4,
   "metadata": {},
   "outputs": [
    {
     "name": "stdout",
     "output_type": "stream",
     "text": [
      "True\n"
     ]
    }
   ],
   "source": [
    "print(\"cut\"> \"bee\")"
   ]
  }
 ],
 "metadata": {
  "kernelspec": {
   "display_name": "base",
   "language": "python",
   "name": "python3"
  },
  "language_info": {
   "codemirror_mode": {
    "name": "ipython",
    "version": 3
   },
   "file_extension": ".py",
   "mimetype": "text/x-python",
   "name": "python",
   "nbconvert_exporter": "python",
   "pygments_lexer": "ipython3",
   "version": "3.11.5"
  }
 },
 "nbformat": 4,
 "nbformat_minor": 2
}
