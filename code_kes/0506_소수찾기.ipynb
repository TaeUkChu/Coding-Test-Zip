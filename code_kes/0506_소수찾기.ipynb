{
 "cells": [
  {
   "cell_type": "code",
   "execution_count": 1,
   "metadata": {},
   "outputs": [
    {
     "name": "stdout",
     "output_type": "stream",
     "text": [
      "['0', '1', '1']\n"
     ]
    }
   ],
   "source": [
    "# 문제 : https://school.programmers.co.kr/learn/courses/30/lessons/42839\n",
    "# 정리 : https://velog.io/@uiseoo/완전탐색-소수찾기-Level-1\n",
    "\n",
    "from itertools import permutations\n",
    "import math\n",
    "\n",
    "numbers = \"011\"\n",
    "number = list(numbers)\n",
    "\n",
    "print(number)"
   ]
  },
  {
   "cell_type": "code",
   "execution_count": 10,
   "metadata": {},
   "outputs": [
    {
     "name": "stdout",
     "output_type": "stream",
     "text": [
      "갱신리스트 ['1', '1']\n",
      "갱신리스트 ['0', '1']\n",
      "갱신리스트 ['0', '1']\n",
      "[1, 1, 11, 11]\n"
     ]
    }
   ],
   "source": [
    "# 틀린 답\n",
    "\n",
    "answer = []\n",
    "\n",
    "for i in range(len(number)):\n",
    "    updeat_number = number[:i] + number[i+1:]\n",
    "    print(\"갱신리스트\", updeat_number) \n",
    "    \n",
    "    self_chk = int(number[i])\n",
    "    # if self_chk != 1 and self_chk == 2 or self_chk %2 != 0:\n",
    "    if self_chk == 2 or self_chk %2 != 0 and self_chk != 1:\n",
    "        answer.append(self_chk)\n",
    "        \n",
    "    for j in updeat_number:\n",
    "        PN = int(number[i]+j)\n",
    "        if PN%2 != 0 :\n",
    "            answer.append(PN)\n",
    "    \n",
    "print(answer)"
   ]
  },
  {
   "cell_type": "code",
   "execution_count": 55,
   "metadata": {},
   "outputs": [
    {
     "name": "stdout",
     "output_type": "stream",
     "text": [
      "[2, 3, 5, 7, 11, 13, 17, 19, 23, 29, 31, 37, 41, 43, 47, 53, 59, 61, 67, 71, 73, 79, 83, 89, 97, 101, 103, 107, 109, 113, 127, 131, 137, 139, 149, 151, 157, 163, 167, 173, 179, 181, 191, 193, 197, 199, 211, 223, 227, 229, 233, 239, 241, 251, 257, 263, 269, 271, 277, 281, 283, 293, 307, 311, 313, 317, 331, 337, 347, 349, 353, 359, 367, 373, 379, 383, 389, 397, 401, 409, 419, 421, 431, 433, 439, 443, 449, 457, 461, 463, 467, 479, 487, 491, 499, 503, 509, 521, 523, 541, 547, 557, 563, 569, 571, 577, 587, 593, 599, 601, 607, 613, 617, 619, 631, 641, 643, 647, 653, 659, 661, 673, 677, 683, 691, 701, 709, 719, 727, 733, 739, 743, 751, 757, 761, 769, 773, 787, 797, 809, 811, 821, 823, 827, 829, 839, 853, 857, 859, 863, 877, 881, 883, 887, 907, 911, 919, 929, 937, 941, 947, 953, 967, 971, 977, 983, 991, 997]\n"
     ]
    }
   ],
   "source": [
    "# 에라토스네의 체\n",
    "\n",
    "n = 1000\n",
    "a = [False, False] + [True]*(n-1)\n",
    "primes=[]\n",
    "\n",
    "for i in range(2, n+1):\n",
    "    if a[i]:\n",
    "        primes.append(i)\n",
    "        for j in range(2*i, n+1, i):\n",
    "            a[j] = False\n",
    "\n",
    "print(primes)"
   ]
  },
  {
   "cell_type": "code",
   "execution_count": null,
   "metadata": {},
   "outputs": [],
   "source": [
    "# 수소 판단 함수\n",
    "\n",
    "# 힌개의 소수를 구하는 경우\n",
    "def isPrime1(a):\n",
    "  if(a<2):\n",
    "    return False\n",
    "  for i in range(2,a):\n",
    "    if(a%i==0):\n",
    "      return False\n",
    "  return True\n",
    "\n",
    "for i in range(n+1):\n",
    "  if(isPrime1(i)):\n",
    "    print(i)\n",
    "\n",
    "\n",
    "# 제곱근을 이용해서 소수를 판단하는 경우\n",
    "def isPrime2(n):\n",
    "    for i in range(2, int(math.sqrt(n))+1):\n",
    "        if n % i == 0: \n",
    "            return False\n",
    "    return True\n",
    "\n",
    "\n"
   ]
  },
  {
   "cell_type": "code",
   "execution_count": 9,
   "metadata": {},
   "outputs": [
    {
     "name": "stdout",
     "output_type": "stream",
     "text": [
      "('1',)\n",
      "{1}\n",
      "('7',)\n",
      "{1, 7}\n",
      "('1', '7')\n",
      "{1, 17, 7}\n",
      "('7', '1')\n",
      "{1, 71, 17, 7}\n",
      "1\n",
      "71\n",
      "17\n",
      "7\n",
      "count 3\n"
     ]
    }
   ],
   "source": [
    "# 정답 코드\n",
    "\n",
    "def isDecimal(num):\n",
    "    if(num <= 1):\n",
    "        return False \n",
    "    for i in range(2, num):\n",
    "        if num%i == 0:\n",
    "            return False    \n",
    "    return True\n",
    "\n",
    "number_li = list(numbers)\n",
    "allNums = set()\n",
    "\n",
    "for i in range(1, len(numbers)+1):\n",
    "    permutations_list = permutations(number_li, i)\n",
    "    for perm in permutations_list:\n",
    "        num = int(''.join(perm))\n",
    "        allNums.add(num)\n",
    "        \n",
    "count = 0\n",
    "for num in allNums:\n",
    "    if isDecimal(num):\n",
    "        count +=1 \n",
    "\n"
   ]
  },
  {
   "cell_type": "code",
   "execution_count": null,
   "metadata": {},
   "outputs": [],
   "source": []
  }
 ],
 "metadata": {
  "kernelspec": {
   "display_name": "base",
   "language": "python",
   "name": "python3"
  },
  "language_info": {
   "codemirror_mode": {
    "name": "ipython",
    "version": 3
   },
   "file_extension": ".py",
   "mimetype": "text/x-python",
   "name": "python",
   "nbconvert_exporter": "python",
   "pygments_lexer": "ipython3",
   "version": "3.11.5"
  }
 },
 "nbformat": 4,
 "nbformat_minor": 2
}
