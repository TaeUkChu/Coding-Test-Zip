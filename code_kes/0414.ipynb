{
 "cells": [
  {
   "cell_type": "code",
   "execution_count": 19,
   "metadata": {},
   "outputs": [],
   "source": [
    "# a, b = map(int, input().split()) 입력 값 기본 form"
   ]
  },
  {
   "cell_type": "code",
   "execution_count": null,
   "metadata": {},
   "outputs": [],
   "source": [
    "# 정렬\n",
    "# https://www.acmicpc.net/problem/23882\n",
    "# - https://chat.openai.com/share/6fef68c4-000b-4f90-922d-1b52d547387c\n",
    "# https://www.acmicpc.net/problem/24052\n",
    "# https://www.acmicpc.net/problem/24051\n",
    "\n",
    "# 탐색\n",
    "# https://www.acmicpc.net/problem/30503\n",
    "# https://www.acmicpc.net/problem/9934\n",
    "\n",
    "\n",
    "# def selection_sort(A):\n",
    "#     n = len(A)\n",
    "#     for i in range(n-1):\n",
    "#         least = i\n",
    "#         for j in range(i+1, n):\n",
    "#             if(A[j]<A[least]):\n",
    "#                 least = j\n",
    "#         A[i],A[least] = A[least], A[i]"
   ]
  },
  {
   "cell_type": "code",
   "execution_count": 41,
   "metadata": {},
   "outputs": [],
   "source": [
    "A = [3,1,2,5,4]\n",
    "# A = [3,1,2,5,4]\n",
    "# A.sort()\n",
    "# sort() 메서드를 사용하여 리스트를 정렬할 수 있습니다.\n",
    "# 이 메서드는 기본적으로 리스트를 오름차순으로 정렬합니다. "
   ]
  },
  {
   "cell_type": "code",
   "execution_count": 42,
   "metadata": {},
   "outputs": [
    {
     "data": {
      "text/plain": [
       "[3, 1, 2]"
      ]
     },
     "execution_count": 42,
     "metadata": {},
     "output_type": "execute_result"
    }
   ],
   "source": [
    "A[:-2]"
   ]
  },
  {
   "cell_type": "code",
   "execution_count": 27,
   "metadata": {},
   "outputs": [
    {
     "name": "stdout",
     "output_type": "stream",
     "text": [
      "['1', '2', '3', '4', '5']\n",
      "3 4\n",
      "[1, 2, 3, 4, 5]\n"
     ]
    }
   ],
   "source": [
    "A = input().split()\n",
    "A = [int(x) for x in A]\n",
    "N, K = map(int, input().split())"
   ]
  },
  {
   "cell_type": "code",
   "execution_count": 32,
   "metadata": {},
   "outputs": [
    {
     "name": "stdout",
     "output_type": "stream",
     "text": [
      "[2, 3, 1]\n"
     ]
    }
   ],
   "source": [
    "A = input().split()\n",
    "A = [int(x) for x in A]\n",
    "N, K = map(int, input().split())\n",
    "\n",
    "cnt = 0 # k와 비교환 교환횟수\n",
    "all = 0 # 전체 교환 횟수 \n",
    "result = []\n",
    "\n",
    "for i in range(N-1):\n",
    "# 가장 큰 수 i를 찾는다.\n",
    "    max_index= A.index(max(A))    \n",
    "    if  A[max_index] == A[i] and A[-1] != A[i]:\n",
    "        last = A[-1]\n",
    "        A[i], A[last] = A[last], A[i]\n",
    "        cnt += 1 \n",
    "        all += 1\n",
    "    else: \n",
    "        pass\n",
    "\n",
    "print(A)\n",
    "# 3 2 1        \n",
    "            \n",
    "    \n",
    "            "
   ]
  },
  {
   "cell_type": "code",
   "execution_count": null,
   "metadata": {},
   "outputs": [],
   "source": []
  }
 ],
 "metadata": {
  "kernelspec": {
   "display_name": "base",
   "language": "python",
   "name": "python3"
  },
  "language_info": {
   "codemirror_mode": {
    "name": "ipython",
    "version": 3
   },
   "file_extension": ".py",
   "mimetype": "text/x-python",
   "name": "python",
   "nbconvert_exporter": "python",
   "pygments_lexer": "ipython3",
   "version": "3.11.5"
  }
 },
 "nbformat": 4,
 "nbformat_minor": 2
}
