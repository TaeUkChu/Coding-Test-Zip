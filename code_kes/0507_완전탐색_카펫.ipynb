{
 "cells": [
  {
   "cell_type": "code",
   "execution_count": 5,
   "metadata": {},
   "outputs": [],
   "source": [
    "import math"
   ]
  },
  {
   "cell_type": "code",
   "execution_count": 43,
   "metadata": {},
   "outputs": [
    {
     "name": "stdout",
     "output_type": "stream",
     "text": [
      "[1, 2, 3, 4, 6, 12]\n",
      "[1, 2, 3]\n"
     ]
    }
   ],
   "source": [
    "# 문제 : https://school.programmers.co.kr/learn/courses/30/lessons/42842\n",
    "# 정리 :\n",
    "\n",
    "# 풀이\n",
    "\n",
    "brown = 10\n",
    "yellow = 2\n",
    "\n",
    "# 약수를 구하자\n",
    "size = brown + yellow\n",
    "\n",
    "def isDivisors1(size):\n",
    "    div = []\n",
    "    for i in range(1, size+1):\n",
    "        if size%i == 0:\n",
    "            div.append(i)\n",
    "        \n",
    "    return div\n",
    "\n",
    "def isDivisors2(size):\n",
    "    div = []\n",
    "    for i in range(1, int(math.sqrt(size))+1): # flaot이 아닌 int로 연삭하게 한다.\n",
    "        if size%i == 0:\n",
    "            div.append(i)\n",
    "        \n",
    "    return div # 제곱근 이후의 범위만 출력\n",
    "\n",
    "# 12의 모든 약수를 구해보자\n",
    "# print(isDivisors1(size)) # [1, 2, 3, 4, 6, 12]\n",
    "# print(isDivisors2(size)) # 제곱근 전 약수 # [1, 2, 3]\n",
    "\n",
    "# 9의 모든 약수를 구해보자\n",
    "# print(isDivisors1(size)) # [1, 3, 9]\n",
    "# print(isDivisors2(size)) # 제곱근 전 약수 # [1, 3]\n",
    "\n",
    "# 48의 모든 약수를 구해보자\n",
    "print(isDivisors1(size)) # [1, 2, 3, 4, 6, 8, 12, 16, 24, 48]\n",
    "print(isDivisors2(size)) # 제곱근 전 약수 [1, 2, 3, 4, 6]"
   ]
  },
  {
   "cell_type": "code",
   "execution_count": 44,
   "metadata": {},
   "outputs": [
    {
     "name": "stdout",
     "output_type": "stream",
     "text": [
      "제곱근 확인 3\n",
      "약수 확인 [1, 2, 3, 4, 6, 12]\n",
      "모든 정답 [[4, 3], [6, 2], [12, 1]]\n",
      "[4, 3]\n"
     ]
    }
   ],
   "source": [
    "# 제곱근 이후의 약수 중에 가로길이 조건에 맞는 크기를 고르자\n",
    "print(\"제곱근 확인\", int(math.sqrt(size)))\n",
    "div = isDivisors1(size)\n",
    "print(\"약수 확인\", isDivisors1(size))\n",
    "\n",
    "answer = []\n",
    "\n",
    "for j in div:\n",
    "    if j >= int(math.sqrt(size)):\n",
    "        hight = size//j\n",
    "        width = j\n",
    "        if width >= hight:\n",
    "            answer.append([width,hight])\n",
    "\n",
    "print(\"모든 정답\", answer)        \n",
    "print(answer[0])"
   ]
  },
  {
   "cell_type": "code",
   "execution_count": 45,
   "metadata": {},
   "outputs": [
    {
     "name": "stdout",
     "output_type": "stream",
     "text": [
      "제곱근 확인 6\n",
      "약수 확인 [1, 2, 3, 4, 6, 8, 12, 16, 24, 48]\n",
      "모든 정답 [[8, 6], [12, 4], [16, 3], [24, 2], [48, 1]]\n",
      "[8, 6]\n"
     ]
    }
   ],
   "source": [
    "# 1차시\n",
    "\n",
    "brown = 24\n",
    "yellow = 24\n",
    "\n",
    "# 약수를 구하자\n",
    "size = brown + yellow\n",
    "\n",
    "print(\"제곱근 확인\", int(math.sqrt(size)))\n",
    "\n",
    "def isDivisors1(size):\n",
    "    div = []\n",
    "    for i in range(1, size+1):\n",
    "        if size%i == 0:\n",
    "            div.append(i)\n",
    "    return div\n",
    "\n",
    "div = isDivisors1(size)\n",
    "print(\"약수 확인\", div)\n",
    "\n",
    "answer = []\n",
    "\n",
    "for j in div:\n",
    "    if j >= int(math.sqrt(size)):\n",
    "        hight = size//j\n",
    "        width = j\n",
    "        if  width >= hight:\n",
    "            answer.append([width,hight])\n",
    "\n",
    "print(\"모든 정답\", answer)   \n",
    "print(answer[0])"
   ]
  },
  {
   "cell_type": "code",
   "execution_count": null,
   "metadata": {},
   "outputs": [],
   "source": [
    "# 정답 코드 \n",
    "\n",
    "size = brown + yellow\n",
    "check = [] \n",
    "# h=가로 길이, v=세로 길이\n",
    "\n",
    "h = 0\n",
    "v = 0\n",
    "\n",
    "for i in range(3, size+1):\n",
    "    if size % i ==0:\n",
    "        check. append(i)\n",
    "        \n",
    "for i in range(len(check)):\n",
    "    v = check[i]\n",
    "    h = int(size/v) \n",
    "    if (v-2)*(h-2) == yellow :\n",
    "        print[h, v]\n",
    "        "
   ]
  }
 ],
 "metadata": {
  "kernelspec": {
   "display_name": "base",
   "language": "python",
   "name": "python3"
  },
  "language_info": {
   "codemirror_mode": {
    "name": "ipython",
    "version": 3
   },
   "file_extension": ".py",
   "mimetype": "text/x-python",
   "name": "python",
   "nbconvert_exporter": "python",
   "pygments_lexer": "ipython3",
   "version": "3.11.5"
  }
 },
 "nbformat": 4,
 "nbformat_minor": 2
}
