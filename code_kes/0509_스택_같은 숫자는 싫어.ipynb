{
 "cells": [
  {
   "cell_type": "code",
   "execution_count": null,
   "metadata": {},
   "outputs": [],
   "source": [
    "# 문제 : https://school.programmers.co.kr/learn/courses/30/lessons/12906\n",
    "# 정리 : https://velog.io/@uiseoo/스택-같은-숫자는-싫어-Level-1"
   ]
  },
  {
   "cell_type": "code",
   "execution_count": 6,
   "metadata": {},
   "outputs": [
    {
     "name": "stdout",
     "output_type": "stream",
     "text": [
      "[1, 3, 0, 1]\n"
     ]
    }
   ],
   "source": [
    "# 1차시\n",
    "\n",
    "def solution(arr):\n",
    "    answer = []\n",
    "    stack = []\n",
    "    \n",
    "    for i in arr:\n",
    "        if len(stack) == 0:\n",
    "            stack.append(i)\n",
    "            answer.append(i)\n",
    "        else:\n",
    "            compare = stack.pop()\n",
    "            if i == compare:\n",
    "                stack.append(i)\n",
    "\n",
    "            elif i != compare:\n",
    "                stack.append(i)\n",
    "                answer.append(i)\n",
    "\n",
    "    return answer"
   ]
  },
  {
   "cell_type": "code",
   "execution_count": 8,
   "metadata": {},
   "outputs": [
    {
     "name": "stdout",
     "output_type": "stream",
     "text": [
      "[4, 3]\n"
     ]
    }
   ],
   "source": [
    "# 2차시\n",
    "\n",
    "def solution(arr):\n",
    "    stack = []\n",
    "        \n",
    "    for i in arr:\n",
    "        if len(stack) == 0:\n",
    "            stack.append(i)\n",
    "        else:\n",
    "            if stack[-1] == i:\n",
    "                pass\n",
    "            elif stack[-1] != i:\n",
    "                stack.append(i)\n",
    "         \n",
    "    return stack\n",
    "\n"
   ]
  },
  {
   "cell_type": "code",
   "execution_count": null,
   "metadata": {},
   "outputs": [],
   "source": [
    "# 참고코드\n",
    "\n",
    "stack = []\n",
    "\n",
    "def solution(arr):\n",
    "    answer = []\n",
    "    for i in arr:\n",
    "        if answer[-1:] == [i]: continue\n",
    "        answer.append(i)\n",
    "    return answer"
   ]
  },
  {
   "cell_type": "code",
   "execution_count": 11,
   "metadata": {},
   "outputs": [
    {
     "name": "stdout",
     "output_type": "stream",
     "text": [
      "[1]\n"
     ]
    }
   ],
   "source": [
    "arr = [1,1,3,3,0,1,1]\n",
    "print(arr[-1:])"
   ]
  },
  {
   "cell_type": "code",
   "execution_count": null,
   "metadata": {},
   "outputs": [],
   "source": []
  }
 ],
 "metadata": {
  "kernelspec": {
   "display_name": "base",
   "language": "python",
   "name": "python3"
  },
  "language_info": {
   "codemirror_mode": {
    "name": "ipython",
    "version": 3
   },
   "file_extension": ".py",
   "mimetype": "text/x-python",
   "name": "python",
   "nbconvert_exporter": "python",
   "pygments_lexer": "ipython3",
   "version": "3.11.5"
  }
 },
 "nbformat": 4,
 "nbformat_minor": 2
}
