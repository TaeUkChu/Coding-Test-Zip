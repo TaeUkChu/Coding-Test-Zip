{
 "cells": [
  {
   "cell_type": "code",
   "execution_count": 27,
   "metadata": {},
   "outputs": [
    {
     "name": "stdout",
     "output_type": "stream",
     "text": [
      "8a6a5a3a1a"
     ]
    }
   ],
   "source": [
    "# a, b = map(int, input().split()) 입력 값 기본 form"
   ]
  },
  {
   "cell_type": "code",
   "execution_count": 13,
   "metadata": {},
   "outputs": [
    {
     "ename": "ValueError",
     "evalue": "invalid literal for int() with base 10: ''",
     "output_type": "error",
     "traceback": [
      "\u001b[0;31m---------------------------------------------------------------------------\u001b[0m",
      "\u001b[0;31mValueError\u001b[0m                                Traceback (most recent call last)",
      "Cell \u001b[0;32mIn[13], line 5\u001b[0m\n\u001b[1;32m      3\u001b[0m k \u001b[38;5;241m=\u001b[39m \u001b[38;5;28minput\u001b[39m()\n\u001b[1;32m      4\u001b[0m a \u001b[38;5;241m=\u001b[39m[]\n\u001b[0;32m----> 5\u001b[0m \u001b[38;5;28;01mfor\u001b[39;00m i \u001b[38;5;129;01min\u001b[39;00m \u001b[38;5;28mrange\u001b[39m(\u001b[38;5;28mint\u001b[39m(k)):\n\u001b[1;32m      6\u001b[0m     n \u001b[38;5;241m=\u001b[39m \u001b[38;5;28minput\u001b[39m()\n\u001b[1;32m      7\u001b[0m     \u001b[38;5;28;01mif\u001b[39;00m n \u001b[38;5;241m==\u001b[39m \u001b[38;5;28mstr\u001b[39m(\u001b[38;5;241m0\u001b[39m) :\n",
      "\u001b[0;31mValueError\u001b[0m: invalid literal for int() with base 10: ''"
     ]
    }
   ],
   "source": [
    "# 3117 : 0은 빼!\n",
    "\n",
    "k = input()\n",
    "a =[]\n",
    "for i in range(int(k)):\n",
    "    n = int(input())\n",
    "    if n == 0 :\n",
    "        a.pop()\n",
    "    else: \n",
    "        a.append(n)\n",
    "print(sum(a))\n",
    "        \n",
    "# 입력예시\n",
    "# 10 <- 입력할 정수의 수\n",
    "# 1 <- 첫 입력\n",
    "# 3\n",
    "# 5\n",
    "# 4\n",
    "# 0\n",
    "# 0\n",
    "# 7\n",
    "# 0\n",
    "# 0\n",
    "# 6        \n",
    "# 입력예시가 세로인 경우는 input에 값이 한개씩 들어가는 것을 의미.\n",
    "\n",
    "# input()은 기본적으로 문자열로 입력을 받는다."
   ]
  },
  {
   "cell_type": "code",
   "execution_count": null,
   "metadata": {},
   "outputs": [],
   "source": [
    "# 블로그 참조\n",
    "\n",
    "stack = []\n",
    "cnt = 0\n",
    " \n",
    "for i in range(len(s)):\n",
    "    if s[i] == '(':\n",
    "        stack.append('(')\n",
    " \n",
    "    else:    # ')'\n",
    "        if s[i-1] == '(':    # Razor\n",
    "            stack.pop()\n",
    "            cnt = cnt + len(stack)\n",
    " \n",
    "        else:    # ')', ironBar\n",
    "            cnt += 1\n",
    "            stack.pop()\n",
    "print(cnt)"
   ]
  }
 ],
 "metadata": {
  "kernelspec": {
   "display_name": "base",
   "language": "python",
   "name": "python3"
  },
  "language_info": {
   "codemirror_mode": {
    "name": "ipython",
    "version": 3
   },
   "file_extension": ".py",
   "mimetype": "text/x-python",
   "name": "python",
   "nbconvert_exporter": "python",
   "pygments_lexer": "ipython3",
   "version": "3.11.5"
  }
 },
 "nbformat": 4,
 "nbformat_minor": 2
}
