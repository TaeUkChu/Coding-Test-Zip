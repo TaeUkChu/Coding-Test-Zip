{
 "cells": [
  {
   "cell_type": "code",
   "execution_count": 19,
   "metadata": {},
   "outputs": [],
   "source": [
    "# a, b = map(int, input().split()) 입력 값 기본 form\n",
    "import sys\n",
    "input = sys.stdin.readline\n"
   ]
  },
  {
   "cell_type": "code",
   "execution_count": 2,
   "metadata": {},
   "outputs": [
    {
     "ename": "ValueError",
     "evalue": "invalid literal for int() with base 10: ''",
     "output_type": "error",
     "traceback": [
      "\u001b[0;31m---------------------------------------------------------------------------\u001b[0m",
      "\u001b[0;31mValueError\u001b[0m                                Traceback (most recent call last)",
      "Cell \u001b[0;32mIn[2], line 2\u001b[0m\n\u001b[1;32m      1\u001b[0m \u001b[38;5;66;03m# 17608 막대기\u001b[39;00m\n\u001b[0;32m----> 2\u001b[0m n \u001b[38;5;241m=\u001b[39m \u001b[38;5;28mint\u001b[39m(\u001b[38;5;28minput\u001b[39m())\n\u001b[1;32m      4\u001b[0m t_list \u001b[38;5;241m=\u001b[39m []\n\u001b[1;32m      5\u001b[0m \u001b[38;5;28;01mfor\u001b[39;00m i \u001b[38;5;129;01min\u001b[39;00m \u001b[38;5;28mrange\u001b[39m(n):\n",
      "\u001b[0;31mValueError\u001b[0m: invalid literal for int() with base 10: ''"
     ]
    }
   ],
   "source": [
    "# 17608 막대기\n",
    "n = int(input())\n",
    "\n",
    "t_list = []\n",
    "for i in range(n):\n",
    "    t_list.append(int(input()))\n",
    "\n",
    "a = t_list[-1]\n",
    "cnt = 1\n",
    "\n",
    "for j in reversed(range(n-1)):    \n",
    "    if a < t_list[j]:\n",
    "        cnt += 1\n",
    "        a = t_list[j]\n",
    "    \n",
    "print(cnt)\n",
    "\n",
    "# `last = stack[i]`를 사용하는 이유는 다음과 같습니다.\n",
    "\n",
    "# 문제에서 주어진 조건은 다음과 같습니다:\n",
    "\n",
    "# - 오른쪽에서 왼쪽으로 순회하면서 현재의 수보다 큰 수를 만날 때마다 개수를 증가시킵니다.\n",
    "# - 이 때, 마지막으로 발견된 수(`last`)보다 큰 수를 만났을 때마다 `last` 값을 그 큰 수로 업데이트합니다.\n",
    "\n",
    "# 이 조건을 만족시키기 위해서는 현재 탐색 중인 수(`stack[i]`)가 `last`보다 클 경우에만 개수를 증가시키고, `last` 값을 업데이트해야 합니다.\n",
    "\n",
    "# 예를 들어, 입력이 `[6, 9, 7, 4, 6, 3, 8, 2]`일 경우를 생각해보겠습니다:\n",
    "\n",
    "# - 초기 `last`는 `2`입니다.\n",
    "# - `stack`을 오른쪽에서 왼쪽으로 탐색하면서 `stack[i]`와 `last`를 비교합니다.\n",
    "#   - `8`은 `last(2)`보다 크므로 개수를 1 증가시키고, `last`를 `8`로 업데이트합니다.\n",
    "#   - `3`은 `last(8)`보다 작으므로 넘어갑니다.\n",
    "#   - `6`은 `last(8)`보다 작으므로 넘어갑니다.\n",
    "#   - `4`는 `last(8)`보다 작으므로 넘어갑니다.\n",
    "#   - `7`은 `last(8)`보다 작으므로 넘어갑니다.\n",
    "#   - `9`은 `last(8)`보다 크므로 개수를 1 증가시키고, `last`를 `9`로 업데이트합니다.\n",
    "#   - `6`은 `last(9)`보다 작으므로 넘어갑니다.\n",
    "#   - `6`은 `last(9)`와 같으므로 넘어갑니다.\n",
    "\n",
    "# 이렇게 `last` 값을 업데이트하면서 조건을 만족시키면서 문제를 해결할 수 있습니다."
   ]
  },
  {
   "cell_type": "code",
   "execution_count": 1,
   "metadata": {},
   "outputs": [
    {
     "ename": "KeyboardInterrupt",
     "evalue": "",
     "output_type": "error",
     "traceback": [
      "\u001b[0;31m---------------------------------------------------------------------------\u001b[0m",
      "\u001b[0;31mKeyboardInterrupt\u001b[0m                         Traceback (most recent call last)",
      "Cell \u001b[0;32mIn[1], line 4\u001b[0m\n\u001b[1;32m      1\u001b[0m \u001b[38;5;28;01mimport\u001b[39;00m \u001b[38;5;21;01msys\u001b[39;00m\n\u001b[1;32m      2\u001b[0m \u001b[38;5;28minput\u001b[39m \u001b[38;5;241m=\u001b[39m sys\u001b[38;5;241m.\u001b[39mstdin\u001b[38;5;241m.\u001b[39mreadline\n\u001b[0;32m----> 4\u001b[0m n \u001b[38;5;241m=\u001b[39m \u001b[38;5;28mint\u001b[39m(\u001b[38;5;28minput\u001b[39m())\n\u001b[1;32m      6\u001b[0m zero_list \u001b[38;5;241m=\u001b[39m []\n\u001b[1;32m      7\u001b[0m cnt \u001b[38;5;241m=\u001b[39m \u001b[38;5;241m0\u001b[39m\n",
      "\u001b[0;31mKeyboardInterrupt\u001b[0m: "
     ]
    }
   ],
   "source": [
    "# 10773번\n",
    "n = int(input())\n",
    "zero_list = []\n",
    "\n",
    "for i in range(n):\n",
    "   cnt = int((input))\n",
    "   if (cnt == 0):\n",
    "      zero_list.pop()\n",
    "   else: zero_list.append(cnt)\n",
    "\n",
    "print(sum(zero_list))"
   ]
  },
  {
   "cell_type": "code",
   "execution_count": null,
   "metadata": {},
   "outputs": [],
   "source": []
  }
 ],
 "metadata": {
  "kernelspec": {
   "display_name": "base",
   "language": "python",
   "name": "python3"
  },
  "language_info": {
   "codemirror_mode": {
    "name": "ipython",
    "version": 3
   },
   "file_extension": ".py",
   "mimetype": "text/x-python",
   "name": "python",
   "nbconvert_exporter": "python",
   "pygments_lexer": "ipython3",
   "version": "3.11.5"
  }
 },
 "nbformat": 4,
 "nbformat_minor": 2
}
