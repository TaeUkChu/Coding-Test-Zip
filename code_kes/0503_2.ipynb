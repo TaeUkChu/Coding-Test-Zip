{
 "cells": [
  {
   "cell_type": "code",
   "execution_count": 1,
   "metadata": {},
   "outputs": [
    {
     "name": "stdout",
     "output_type": "stream",
     "text": [
      "5\n"
     ]
    }
   ],
   "source": [
    "# answer = [1,2,3,4,5]\n",
    "test_answer = [1,2,3,4,5,6,7,8,9,10]\n",
    "\n",
    "student = [\n",
    "    [1,2,3,4,5],\n",
    "    [2, 1, 2, 3, 2, 4, 2, 5],\n",
    "    [3, 3, 1, 1, 2, 2, 4, 4, 5, 5]\n",
    "    ]\n",
    "\n",
    "size = len(test_answer) - len(student[0])\n",
    "print(size)\n",
    "\n",
    "student_1cnt = 0\n",
    "student_2cnt = 0\n",
    "student_3cnt = 0\n",
    "\n",
    "# for i in range(len(answer)):\n",
    "#     student[0] * len[answer]\n",
    "\n",
    "# answer의 요소 갯수와 student의 답 요소 갯수를 맞춘다\n",
    "# 각 student 마다 for문을 실행하여 비교한다\n",
    "# 맞춘 갯수를 count한다.\n",
    "# count 값을 비교한다.\n",
    "        \n",
    "    \n",
    "    \n",
    "\n",
    "\n",
    "\n"
   ]
  },
  {
   "cell_type": "code",
   "execution_count": null,
   "metadata": {},
   "outputs": [],
   "source": []
  }
 ],
 "metadata": {
  "kernelspec": {
   "display_name": "base",
   "language": "python",
   "name": "python3"
  },
  "language_info": {
   "codemirror_mode": {
    "name": "ipython",
    "version": 3
   },
   "file_extension": ".py",
   "mimetype": "text/x-python",
   "name": "python",
   "nbconvert_exporter": "python",
   "pygments_lexer": "ipython3",
   "version": "3.11.5"
  }
 },
 "nbformat": 4,
 "nbformat_minor": 2
}
