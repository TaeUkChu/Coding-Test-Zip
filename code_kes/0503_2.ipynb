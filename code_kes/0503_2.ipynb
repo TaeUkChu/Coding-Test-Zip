{
 "cells": [
  {
   "cell_type": "code",
   "execution_count": 24,
   "metadata": {},
   "outputs": [],
   "source": [
    "# 정리 : https://velog.io/@uiseoo/완전탐색-모의고사-Level-1\n",
    "\n",
    "answers = [1,2,3,4,5,6,8,7,5,2,3,2,]\n",
    "\n",
    "answer = []\n",
    "score = [0,0,0]\n",
    "\n",
    "student1 = [1,2,3,4,5] # 길이 5\n",
    "student2 = [2,1,2,3,2,4,2,5] # 길이 8\n",
    "student3 = [3,3,1,1,2,2,4,4,5,5] # 길이 10\n",
    "\n",
    "# student1[i%5]은 student1의 길이로 나눈 것의 나머지 값인데, 0-9까지가 반복되어 answers의 첫번째~마지막 인덱스를 반복할 수 있다.\n",
    "for i in range(len(answers)):\n",
    "    if answers[i] == student1[i%5] :\n",
    "        score[0] += 1\n",
    "    if answers[i] == student2[i%8] :\n",
    "        score[1] += 1\n",
    "    if answers[i] == student3[i%10] :\n",
    "        score[2] += 1\n",
    "\n",
    "for idx, num in enumerate(score) :\n",
    "    if num == max(score):\n",
    "        answer.append(idx +1) # 맞힌 개수가 최댓값일 때 인덱스+1을 리스트 answer에 추가한다."
   ]
  }
 ],
 "metadata": {
  "kernelspec": {
   "display_name": "base",
   "language": "python",
   "name": "python3"
  },
  "language_info": {
   "codemirror_mode": {
    "name": "ipython",
    "version": 3
   },
   "file_extension": ".py",
   "mimetype": "text/x-python",
   "name": "python",
   "nbconvert_exporter": "python",
   "pygments_lexer": "ipython3",
   "version": "3.11.5"
  }
 },
 "nbformat": 4,
 "nbformat_minor": 2
}
