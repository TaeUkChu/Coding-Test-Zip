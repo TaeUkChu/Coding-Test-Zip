{
 "cells": [
  {
   "cell_type": "code",
   "execution_count": 5,
   "metadata": {},
   "outputs": [],
   "source": [
    "# 프로그래머스 깊이/너비 우선 탐색(DFS/BFS) 풀이 정리 미완료\n",
    "# 문제 : https://velog.io/@ju_h2/Python-%ED%94%84%EB%A1%9C%EA%B7%B8%EB%9E%98%EB%A8%B8%EC%8A%A4-level2-%ED%83%80%EA%B2%9F%EB%84%98%EB%B2%84-BFSDFS\n",
    "# 참고1 : https://velog.io/@ju_h2/Python-%ED%94%84%EB%A1%9C%EA%B7%B8%EB%9E%98%EB%A8%B8%EC%8A%A4-level2-%ED%83%80%EA%B2%9F%EB%84%98%EB%B2%84-BFSDFS\n",
    "# 참고2 : https://daeun-computer-uneasy.tistory.com/69\n",
    "\n",
    "\n",
    "from collections import deque\n",
    "number = [1,1,1,1,1]\n",
    "target = 3\n",
    "answer = 0\n",
    "q =deque()\n",
    "n = len(number) # 숫자배열의 크기"
   ]
  },
  {
   "cell_type": "code",
   "execution_count": 6,
   "metadata": {},
   "outputs": [],
   "source": [
    "# 그래프를 그려!\n",
    "# 다음 인덱스에 해당하는 더하거나 뺸 값을 방문\n",
    "\n",
    "q.append([number[0],0])\n",
    "q.append(-1*[number[0],0])\n",
    "\n",
    "# q = [[1,0],[-1,0]]\n",
    "# 더하거나 뺸 값의 시작을 표현"
   ]
  },
  {
   "cell_type": "code",
   "execution_count": null,
   "metadata": {},
   "outputs": [],
   "source": [
    "# temp는 현재의 값\n",
    "\n",
    "while q:\n",
    "    temp, idx = q.popleft()\n",
    "    idx += 1\n",
    "    if idx < n: # 숫자 배열의 크기 만큼만 탐색 idx = 0~4까지 \n",
    "        q.append([temp+number[idx], idx])\n",
    "        q.append([temp-number[idx], idx])\n",
    "    else:\n",
    "        if temp == target:\n",
    "            answer += 1\n",
    "        \n",
    "print(answer)\n",
    "        "
   ]
  }
 ],
 "metadata": {
  "kernelspec": {
   "display_name": "base",
   "language": "python",
   "name": "python3"
  },
  "language_info": {
   "codemirror_mode": {
    "name": "ipython",
    "version": 3
   },
   "file_extension": ".py",
   "mimetype": "text/x-python",
   "name": "python",
   "nbconvert_exporter": "python",
   "pygments_lexer": "ipython3",
   "version": "3.11.5"
  }
 },
 "nbformat": 4,
 "nbformat_minor": 2
}
