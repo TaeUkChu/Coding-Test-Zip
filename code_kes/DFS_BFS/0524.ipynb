{
 "cells": [
  {
   "cell_type": "code",
   "execution_count": null,
   "metadata": {},
   "outputs": [],
   "source": [
    "import sys\n",
    "sys.setrecursionlimit(int(1e6))\n",
    "input = sys.stdin.readline\n",
    "\n",
    "# 재귀함수 한계 해제\n",
    "# 빠른 input 사용"
   ]
  },
  {
   "cell_type": "code",
   "execution_count": null,
   "metadata": {},
   "outputs": [],
   "source": [
    "n, m, r = map(int, input().split(\"\")) \n",
    "# n : 정점의 수 5\n",
    "# m : 간선의 수 5\n",
    "# r : 시작 정점 1    "
   ]
  }
 ],
 "metadata": {
  "kernelspec": {
   "display_name": "base",
   "language": "python",
   "name": "python3"
  },
  "language_info": {
   "name": "python",
   "version": "3.11.5"
  }
 },
 "nbformat": 4,
 "nbformat_minor": 2
}
