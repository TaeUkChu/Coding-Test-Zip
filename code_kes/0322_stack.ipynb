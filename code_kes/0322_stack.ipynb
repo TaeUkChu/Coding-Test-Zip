{
 "cells": [
  {
   "cell_type": "code",
   "execution_count": 27,
   "metadata": {},
   "outputs": [
    {
     "name": "stdout",
     "output_type": "stream",
     "text": [
      "8a6a5a3a1a"
     ]
    }
   ],
   "source": [
    "# a, b = map(int, input().split()) 입력 값 기본 form"
   ]
  },
  {
   "cell_type": "code",
   "execution_count": null,
   "metadata": {},
   "outputs": [],
   "source": [
    "# 3117 : 0은 빼!\n",
    "\n",
    "k = input()\n",
    "a =[]\n",
    "for i in range(int(k)):\n",
    "    n = int(input())\n",
    "    if n == 0 :\n",
    "        a.pop()\n",
    "    else: \n",
    "        a.append(n)\n",
    "print(sum(a))\n",
    "        \n",
    "# 입력예시\n",
    "# 10 <- 입력할 정수의 수\n",
    "# 1 <- 첫 입력\n",
    "# 3\n",
    "# 5\n",
    "# 4\n",
    "# 0\n",
    "# 0\n",
    "# 7\n",
    "# 0\n",
    "# 0\n",
    "# 6        \n",
    "# 입력예시가 세로인 경우는 input에 값이 한개씩 들어가는 것을 의미.\n",
    "\n",
    "# input()은 기본적으로 문자열로 입력을 받는다."
   ]
  },
  {
   "cell_type": "code",
   "execution_count": null,
   "metadata": {},
   "outputs": [],
   "source": [
    "# 블로그 참조\n",
    "\n",
    "stack = []\n",
    "cnt = 0\n",
    " \n",
    "for i in range(len(s)):\n",
    "    if s[i] == '(':\n",
    "        stack.append('(')\n",
    " \n",
    "    else:    # ')'\n",
    "        if s[i-1] == '(':    # Razor\n",
    "            stack.pop()\n",
    "            cnt = cnt + len(stack)\n",
    " \n",
    "        else:    # ')', ironBar\n",
    "            cnt += 1\n",
    "            stack.pop()\n",
    "print(cnt)"
   ]
  }
 ],
 "metadata": {
  "kernelspec": {
   "display_name": "base",
   "language": "python",
   "name": "python3"
  },
  "language_info": {
   "codemirror_mode": {
    "name": "ipython",
    "version": 3
   },
   "file_extension": ".py",
   "mimetype": "text/x-python",
   "name": "python",
   "nbconvert_exporter": "python",
   "pygments_lexer": "ipython3",
   "version": "3.11.5"
  }
 },
 "nbformat": 4,
 "nbformat_minor": 2
}
