{
 "cells": [
  {
   "cell_type": "code",
   "execution_count": 7,
   "metadata": {},
   "outputs": [],
   "source": [
    "# 문제 : https://school.programmers.co.kr/learn/courses/30/lessons/42586\n",
    "from collections import deque"
   ]
  },
  {
   "cell_type": "code",
   "execution_count": 15,
   "metadata": {},
   "outputs": [
    {
     "name": "stdout",
     "output_type": "stream",
     "text": [
      "deque([7, 3, 9], maxlen=3)\n",
      "7\n",
      "3\n",
      "9\n"
     ]
    }
   ],
   "source": [
    "# 1차시 \n",
    "\n",
    "progresses = [93, 30, 55]\n",
    "speeds = [1, 30, 5]\n",
    "day_list = deque(maxlen=len(progresses))\n",
    "answer = []\n",
    "\n",
    "for i in range(len(progresses)):\n",
    "    remaining = 100 - progresses[i]\n",
    "    if remaining % speeds[i] != 0:\n",
    "        complete_day = (remaining // speeds[i]) + 1\n",
    "        day_list.append(complete_day)\n",
    "    \n",
    "    elif remaining % speeds[i] == 0:\n",
    "        complete_day = remaining // speeds[i]\n",
    "        day_list.append(complete_day)\n",
    "\n",
    "print(day_list)\n",
    "# print(len(day_list))\n",
    "\n",
    "for func in day_list:\n",
    "    func\n",
    "    for i in range:\n",
    "\n",
    "    \n",
    "    \n",
    "    \n",
    "        \n",
    "    \n"
   ]
  },
  {
   "cell_type": "code",
   "execution_count": 3,
   "metadata": {},
   "outputs": [
    {
     "name": "stdout",
     "output_type": "stream",
     "text": [
      "3\n"
     ]
    }
   ],
   "source": [
    "if 70%30 != 0:\n",
    "    70//30+1"
   ]
  },
  {
   "cell_type": "code",
   "execution_count": 17,
   "metadata": {},
   "outputs": [
    {
     "name": "stdout",
     "output_type": "stream",
     "text": [
      "[2, 1]\n"
     ]
    }
   ],
   "source": [
    "# 참고 코드\n",
    "\n",
    "progresses = [93, 30, 55]\n",
    "speeds = [1, 30, 5]\n",
    "\n",
    "day_list = deque(maxlen=len(progresses))\n",
    "answer = []\n",
    "\n",
    "for i in range(len(progresses)):\n",
    "    remaining = 100 - progresses[i]\n",
    "    if remaining % speeds[i] != 0:\n",
    "        complete_day = (remaining // speeds[i]) + 1\n",
    "        day_list.append(complete_day)\n",
    "    \n",
    "    elif remaining % speeds[i] == 0:\n",
    "        complete_day = remaining // speeds[i]\n",
    "        day_list.append(complete_day)\n",
    "\n",
    "index = 0        \n",
    "for i in range(len(day_list)): \n",
    "    if day_list[index] < day_list[i]:\n",
    "        answer.append(i-index) # 각 기능에서 배포의 가능한 기능의 수는 인덱스 차이로 계산 함\n",
    "        index = i # 현재 배포한 기능 배포일수 보다 더 큰 배포일수로 인덱스를 갱신\n",
    "        \n",
    "answer.append(len(day_list) - index)\n",
    "\n",
    "print(answer)\n",
    "\n",
    "    "
   ]
  },
  {
   "cell_type": "code",
   "execution_count": null,
   "metadata": {},
   "outputs": [],
   "source": [
    "Q=[]    \t\t\t\t\t\t\t\t\t# 이중리스트 [[작업일수, 배포개수]]\n",
    "for p, s in zip(progresses, speeds):\n",
    "    if len(Q)==0 or Q[-1][0]<-((p-100)//s):  # 맨 처음(공백 리스트)이거나 현재 작업일수가 이전 작업일수보다 크면 \n",
    "        Q.append([-((p-100)//s),1])         # Q에 현재작업일수와 배포개수(1) 추가\n",
    "    \n",
    "    else:\n",
    "        Q[-1][1]+=1                         # 이전 작업일수보다 작으면 이전작업일수에 해당하는 배포개수 1 증가\n",
    "    \n",
    "print([q[1] for q in Q])                    # 이중리스트에서 배포개수들만 리스트형으로 반환"
   ]
  }
 ],
 "metadata": {
  "kernelspec": {
   "display_name": "base",
   "language": "python",
   "name": "python3"
  },
  "language_info": {
   "codemirror_mode": {
    "name": "ipython",
    "version": 3
   },
   "file_extension": ".py",
   "mimetype": "text/x-python",
   "name": "python",
   "nbconvert_exporter": "python",
   "pygments_lexer": "ipython3",
   "version": "3.11.5"
  }
 },
 "nbformat": 4,
 "nbformat_minor": 2
}
