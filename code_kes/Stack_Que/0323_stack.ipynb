{
 "cells": [
  {
   "cell_type": "code",
   "execution_count": 27,
   "metadata": {},
   "outputs": [
    {
     "name": "stdout",
     "output_type": "stream",
     "text": [
      "8a6a5a3a1a"
     ]
    }
   ],
   "source": [
    "# a, b = map(int, input().split()) 입력 값 기본 form"
   ]
  },
  {
   "cell_type": "code",
   "execution_count": 49,
   "metadata": {},
   "outputs": [
    {
     "name": "stdout",
     "output_type": "stream",
     "text": [
      "Case #1: test a is this\n",
      "Case #2: foobar\n",
      "Case #3: base your all\n"
     ]
    }
   ],
   "source": [
    "#  12605번 단어 순서 뒤집기\n",
    "n = int(input())\n",
    "\n",
    "for i in range(1, n+1):\n",
    "    text = ''\n",
    "    a= input().split(' ')\n",
    "    \n",
    "    for j in range(len(a)):\n",
    "        revese = a.pop()\n",
    "        text = text+' '+revese\n",
    "        \n",
    "    print(f'Case #{i}:{text}')\n",
    "    "
   ]
  },
  {
   "cell_type": "code",
   "execution_count": null,
   "metadata": {},
   "outputs": [],
   "source": []
  }
 ],
 "metadata": {
  "kernelspec": {
   "display_name": "base",
   "language": "python",
   "name": "python3"
  },
  "language_info": {
   "codemirror_mode": {
    "name": "ipython",
    "version": 3
   },
   "file_extension": ".py",
   "mimetype": "text/x-python",
   "name": "python",
   "nbconvert_exporter": "python",
   "pygments_lexer": "ipython3",
   "version": "3.11.5"
  }
 },
 "nbformat": 4,
 "nbformat_minor": 2
}
