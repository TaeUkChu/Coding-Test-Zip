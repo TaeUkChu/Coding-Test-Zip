{
 "cells": [
  {
   "cell_type": "code",
   "execution_count": 7,
   "metadata": {},
   "outputs": [
    {
     "name": "stdout",
     "output_type": "stream",
     "text": [
      "None\n"
     ]
    }
   ],
   "source": [
    "# 문제 : https://school.programmers.co.kr/learn/courses/30/lessons/12909\n",
    "# 정리 : https://velog.io/@uiseoo/스택큐-올바른-괄호-Level-2\n",
    "\n",
    "def solution(s):\n",
    "    \n",
    "    s = list(s)\n",
    "    answer = True\n",
    "    stack = []\n",
    "    for i in s:\n",
    "        if i == \"(\" :\n",
    "            stack.append(i)\n",
    "        elif i == \")\":\n",
    "            if len(stack) == 0: # 조건1\n",
    "                answer = False\n",
    "            else : \n",
    "                left = stack.pop() # 조건2\n",
    "                if i == \")\" and left != \"(\":\n",
    "                    answer = False \n",
    "                \n",
    "    if len(stack) != 0: # 조건 3 \n",
    "        answer = False\n",
    "\n",
    "    return answer"
   ]
  }
 ],
 "metadata": {
  "kernelspec": {
   "display_name": "base",
   "language": "python",
   "name": "python3"
  },
  "language_info": {
   "codemirror_mode": {
    "name": "ipython",
    "version": 3
   },
   "file_extension": ".py",
   "mimetype": "text/x-python",
   "name": "python",
   "nbconvert_exporter": "python",
   "pygments_lexer": "ipython3",
   "version": "3.11.5"
  }
 },
 "nbformat": 4,
 "nbformat_minor": 2
}
