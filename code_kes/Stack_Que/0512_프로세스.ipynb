{
 "cells": [
  {
   "cell_type": "code",
   "execution_count": 1,
   "metadata": {},
   "outputs": [
    {
     "name": "stdout",
     "output_type": "stream",
     "text": [
      "2\n"
     ]
    }
   ],
   "source": [
    "# https://school.programmers.co.kr/learn/courses/30/lessons/42587\n",
    "\n",
    "priorities = [2, 1, 3, 2]\n",
    "location = 2\n",
    "answer = list(range(len(priorities)))\n",
    "first = max(priorities)\n",
    "result = 0\n",
    "\n",
    "for i in range(len(priorities)):\n",
    "    if first != priorities[i]:\n",
    "        process = answer.pop()\n",
    "        answer.append(process)\n",
    "    elif first == priorities[i]: \n",
    "        result = answer.index(i)\n",
    "        \n",
    "print(result)\n",
    "        \n",
    "    "
   ]
  },
  {
   "cell_type": "code",
   "execution_count": 3,
   "metadata": {},
   "outputs": [
    {
     "name": "stdout",
     "output_type": "stream",
     "text": [
      "3\n"
     ]
    }
   ],
   "source": [
    "priorities = [1,9,9]\n",
    "location = 0\n",
    "\n",
    "idx = list(range(len(priorities)))\n",
    "\n",
    "first = max(priorities)\n",
    "answer = 0\n",
    "\n",
    "for i in range(len(priorities)):\n",
    "    if first > priorities[i]:\n",
    "        process = idx.pop(0) \n",
    "        idx.append(process)\n",
    "        \n",
    "    elif first == priorities[i]: # 예상되는 문제점2 : 처음로 우선순위가 가장 높은 경우에서 코드가 종료되지 않고 계속 조회 함.\n",
    "        if answer == 0:\n",
    "            answer = idx.index(location)+1\n",
    "            break\n",
    "        \n",
    "print(answer)"
   ]
  },
  {
   "cell_type": "code",
   "execution_count": 8,
   "metadata": {},
   "outputs": [
    {
     "name": "stdout",
     "output_type": "stream",
     "text": [
      "[(0, 1), (1, 9), (2, 9)]\n"
     ]
    }
   ],
   "source": [
    "# 문제 이해 + 추가 https://school.programmers.co.kr/questions/8998\n",
    "# 우선순위 젤 큰 값이 나오면 그 순서대로 출력한다고 이해했었는데\n",
    "# 현재 우선순위 젤 큰 값이 출력되면 그 다음 젤 큰 값이 나올 때까지 배열 뒤로 보내야됨.\n",
    "# 그러다 처음 location 위치에 있던 문서가 출력될 때 그 때 몇번째로 출력됐는지가 답임.\n",
    "# 런타임 에러\n",
    "\n",
    "priorities = [1,9,9]\n",
    "location = 0\n",
    "\n",
    "first = max(priorities)\n",
    "process_list =[]\n",
    "complete_list = []\n",
    "\n",
    "for idx, item in enumerate(priorities):\n",
    "    process_list.append((idx,item))\n",
    "\n",
    "for i in range(len(process_list)+1):\n",
    "    if first > process_list[0][1]:\n",
    "        back = process_list.pop(0) \n",
    "        process_list.append(back)\n",
    "    \n",
    "    elif first == process_list[0][1]: # 실행된 요소를 제외하고 process_list의 범위를 갱신해서 first 갱신\n",
    "        complete = process_list.pop(0)\n",
    "        complete_list.append(complete)\n",
    "        if len(process_list) != 0:\n",
    "            first = max(item[1] for item in process_list)# 줄어든 범위에서 연산이 시작되기 떄문에 시간복잡도 증가하지는 않을 것 같음, first 갱신되긴 함\n",
    "\n",
    "index_0_values = [item[0] for item in complete_list]\n",
    "answer = index_0_values.index(location)+1\n",
    "print(answer)"
   ]
  },
  {
   "cell_type": "code",
   "execution_count": 7,
   "metadata": {},
   "outputs": [
    {
     "name": "stdout",
     "output_type": "stream",
     "text": [
      "3\n"
     ]
    }
   ],
   "source": [
    "priorities = [1,9,9]\n",
    "idx = list(range(len(priorities)))\n",
    "\n",
    "location = 0\n",
    "\n",
    "first = max(priorities)\n",
    "complete_list = []\n",
    "\n",
    "for i in range(len(priorities)+1):\n",
    "    if first > priorities[0]:\n",
    "        back1 = priorities.pop(0) \n",
    "        back2 = idx.pop(0)\n",
    "        priorities.append(back1)\n",
    "        idx.append(back2)\n",
    "    \n",
    "    elif first == priorities[0]:\n",
    "        priorities.pop(0)\n",
    "        complete = idx.pop(0)\n",
    "        complete_list.append(complete)\n",
    "        \n",
    "        if len(priorities) != 0:\n",
    "            first = max(priorities)\n",
    "\n",
    "answer = complete_list.index(location)+1\n",
    "print(answer)"
   ]
  },
  {
   "cell_type": "code",
   "execution_count": 1,
   "metadata": {},
   "outputs": [
    {
     "name": "stdout",
     "output_type": "stream",
     "text": [
      "3\n"
     ]
    }
   ],
   "source": [
    "from collections import deque\n",
    "\n",
    "priorities = [1,9,9]\n",
    "idx = list(range(len(priorities)))\n",
    "\n",
    "priorities = deque(priorities)\n",
    "idx = deque(idx)\n",
    "\n",
    "location = 0\n",
    "\n",
    "first = max(priorities)\n",
    "complete_list = []\n",
    "\n",
    "for i in range(len(priorities)+1):\n",
    "    if first > priorities[0]:\n",
    "        back1 = priorities.popleft()\n",
    "        back2 = idx.popleft()\n",
    "        priorities.append(back1)\n",
    "        idx.append(back2)\n",
    "    \n",
    "    elif first == priorities[0]:\n",
    "        priorities.popleft()\n",
    "        complete = idx.popleft()\n",
    "        complete_list.append(complete)\n",
    "        \n",
    "        if len(priorities) != 0:\n",
    "            first = max(priorities)\n",
    "            \n",
    "        else:\n",
    "            break\n",
    "\n",
    "answer = complete_list.index(location)+1\n",
    "print(answer)"
   ]
  },
  {
   "cell_type": "code",
   "execution_count": null,
   "metadata": {},
   "outputs": [],
   "source": []
  }
 ],
 "metadata": {
  "kernelspec": {
   "display_name": "base",
   "language": "python",
   "name": "python3"
  },
  "language_info": {
   "codemirror_mode": {
    "name": "ipython",
    "version": 3
   },
   "file_extension": ".py",
   "mimetype": "text/x-python",
   "name": "python",
   "nbconvert_exporter": "python",
   "pygments_lexer": "ipython3",
   "version": "3.11.5"
  }
 },
 "nbformat": 4,
 "nbformat_minor": 2
}
