{
 "cells": [
  {
   "cell_type": "code",
   "execution_count": 37,
   "metadata": {},
   "outputs": [
    {
     "name": "stdout",
     "output_type": "stream",
     "text": [
      "[[60, 50], [30, 70], [60, 30], [80, 40]]\n"
     ]
    }
   ],
   "source": [
    "size = [[60, 50], [30, 70], [60, 30], [80, 40]]\n",
    "print(size)"
   ]
  },
  {
   "cell_type": "code",
   "execution_count": 50,
   "metadata": {},
   "outputs": [
    {
     "name": "stdout",
     "output_type": "stream",
     "text": [
      "[60, 30, 60, 80] [50, 70, 30, 40]\n",
      "80 70\n",
      "30 30\n",
      "[30, 60, 60, 80]\n"
     ]
    }
   ],
   "source": [
    "# a, b = map(int, input().split()) 입력 값 기본 form\n",
    "\n",
    "width = []\n",
    "hight = []\n",
    "for i in size:\n",
    "    width.append(i[0])\n",
    "    hight.append(i[1])\n",
    "\n",
    "max_width = max(width)\n",
    "max_hight = max(hight)\n",
    "\n",
    "min_width = min(width)\n",
    "min_hight = min(hight)\n",
    "\n",
    "sorted_width = sorted(width)\n",
    "sorted_hight = sorted(hight)\n",
    "\n",
    "\n",
    "print(width,hight)\n",
    "print(max_width, max_hight)\n",
    "print(min_width, min_hight)\n",
    "print(sorted_width)\n",
    "\n",
    "\n",
    "\n",
    "\n",
    "\n",
    "# for i in range(low, high+1):\n",
    "#     if A[i] == key:\n",
    "#         if i > low:\n",
    "#             A[i], A[i-1] = A[i-1], A[i]\n",
    "#         return i\n",
    "    \n",
    "    "
   ]
  },
  {
   "cell_type": "code",
   "execution_count": null,
   "metadata": {},
   "outputs": [],
   "source": []
  }
 ],
 "metadata": {
  "kernelspec": {
   "display_name": "base",
   "language": "python",
   "name": "python3"
  },
  "language_info": {
   "codemirror_mode": {
    "name": "ipython",
    "version": 3
   },
   "file_extension": ".py",
   "mimetype": "text/x-python",
   "name": "python",
   "nbconvert_exporter": "python",
   "pygments_lexer": "ipython3",
   "version": "3.11.5"
  }
 },
 "nbformat": 4,
 "nbformat_minor": 2
}
