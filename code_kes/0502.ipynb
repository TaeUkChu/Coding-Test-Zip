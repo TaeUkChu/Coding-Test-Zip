{
 "cells": [
  {
   "cell_type": "code",
   "execution_count": 7,
   "metadata": {},
   "outputs": [
    {
     "name": "stdout",
     "output_type": "stream",
     "text": [
      "[[10, 7], [12, 3], [8, 15], [14, 7], [5, 15]]\n"
     ]
    }
   ],
   "source": [
    "size = [[10, 7], [12, 3], [8, 15], [14, 7],[5,15]]\n",
    "# size = [[60, 50], [30, 70], [60, 30], [80, 40]]\n",
    "print(size)"
   ]
  },
  {
   "cell_type": "code",
   "execution_count": 8,
   "metadata": {},
   "outputs": [
    {
     "name": "stdout",
     "output_type": "stream",
     "text": [
      "120\n"
     ]
    }
   ],
   "source": [
    "# a, b = map(int, input().split()) 입력 값 기본 form\n",
    "\n",
    "width = []\n",
    "hight = []\n",
    "result = 0\n",
    "\n",
    "for i in size:\n",
    "    width.append(i[0])\n",
    "    hight.append(i[1])\n",
    "\n",
    "max_width = max(width)\n",
    "max_hight = max(hight)\n",
    "\n",
    "if max_width > max_hight:\n",
    "    for w, h in zip(width, hight) : \n",
    "        if w < h:\n",
    "            idx = width.index(w)\n",
    "            hight[idx] = w\n",
    "            width[idx] = h\n",
    "    \n",
    "    max_hight = max(hight)\n",
    "    result = max_width*max_hight\n",
    "\n",
    "elif max_width < max_hight:\n",
    "    for w, h in zip(width, hight) : \n",
    "        if w > h:\n",
    "            idx = width.index(w)\n",
    "            hight[idx] = w\n",
    "            width[idx] = h\n",
    "    \n",
    "    max_width = max(width)\n",
    "    result = max_width*max_hight\n",
    "\n",
    "    \n",
    "            \n",
    "            \n",
    "             \n",
    "\n",
    "    "
   ]
  },
  {
   "cell_type": "code",
   "execution_count": null,
   "metadata": {},
   "outputs": [],
   "source": []
  }
 ],
 "metadata": {
  "kernelspec": {
   "display_name": "base",
   "language": "python",
   "name": "python3"
  },
  "language_info": {
   "codemirror_mode": {
    "name": "ipython",
    "version": 3
   },
   "file_extension": ".py",
   "mimetype": "text/x-python",
   "name": "python",
   "nbconvert_exporter": "python",
   "pygments_lexer": "ipython3",
   "version": "3.11.5"
  }
 },
 "nbformat": 4,
 "nbformat_minor": 2
}
