{
 "cells": [
  {
   "cell_type": "code",
   "execution_count": 1,
   "metadata": {},
   "outputs": [],
   "source": [
    "# a, b = map(int, input().split()) 입력 값 기본 form"
   ]
  },
  {
   "cell_type": "code",
   "execution_count": 25,
   "metadata": {},
   "outputs": [
    {
     "name": "stdout",
     "output_type": "stream",
     "text": [
      "case2\n",
      "22 55\n"
     ]
    }
   ],
   "source": [
    "# 2884번 알람시계\n",
    "# print()는 정답 처리되니 제출전 불필요한 print는 제거할 것\n",
    "\n",
    "H, M = map(int, input().split())\n",
    "\n",
    "if  M-45 >= 0:                     # case1\n",
    "    M = M-45\n",
    "    print(H,M)                     \n",
    "elif H != 0 and M-45 <= 0:         # case2\n",
    "    H = H-1                        # 가장 먼저 만난 if 조건식에 적용되어 case 3와 구분되어 적용되지 못함\n",
    "    M = 60+(M-45)                  # -> case3와 구분하기 위해 H != 0의 조건  추가\n",
    "    print(H,M)                     # 괄호를 추가하여 M-45가 먼저 출력 되도록, 사칙연산에 주의할 것\n",
    "elif H == 0 and M-45 <= 0 :        # case 3\n",
    "    H = 24-1                        \n",
    "    M = (M-45)+60\n",
    "    print(H,M)\n",
    "    \n",
    "# 다른 풀이\n",
    "if M > 0 :          # 공통되는 case2 / case3을 묶는다\n",
    "    if H == 0 :     \n",
    "        H = 23\n",
    "        M += 60\n",
    "    else :\n",
    "        H -= 1\n",
    "        M += 60\n",
    "\n",
    "print(H, M-45)\n",
    "        "
   ]
  },
  {
   "cell_type": "code",
   "execution_count": 55,
   "metadata": {},
   "outputs": [
    {
     "name": "stdout",
     "output_type": "stream",
     "text": [
      "19 0\n"
     ]
    }
   ],
   "source": [
    "# 2525번 오븐구이\n",
    "H, M = map(int, input().split())\n",
    "timer = int(input()) # 분단위 \n",
    "\n",
    "if M+timer > 59:        # 현재 시간(분)에 소요되는 시간 timer를 더하였을 때 59분 이상이면\n",
    "    H+= (M+timer)//(60) # 주어진 시간(분)을 60으로 나누면 몫은 시간, 나머지는 분이며 이를 각각 H,M에 적용한다.\n",
    "    M = (M+timer)%60\n",
    "    if H >= 24 :        # H >= 24일 경우에는 H-24로 시간 재환산\n",
    "        H= H-24\n",
    "        print(H,M)\n",
    "    else: print(H,M)\n",
    "    \n",
    "else: print(H, M+timer)\n",
    "\n",
    "# 다른 풀이\n",
    "\n",
    "H, M = map(int, input().split())\n",
    "timer = int(input()) \n",
    "\n",
    "H += timer // 60\n",
    "M += timer % 60\n",
    "\n",
    "if M >= 60:\n",
    "    H += 1\n",
    "    M -= 60\n",
    "if H >= 24:\n",
    "    H -= 24\n",
    "    \n",
    "print(H,M)\n"
   ]
  },
  {
   "cell_type": "code",
   "execution_count": 59,
   "metadata": {},
   "outputs": [
    {
     "name": "stdout",
     "output_type": "stream",
     "text": [
      "600\n"
     ]
    }
   ],
   "source": [
    "# 2480번 주사위 세개\n",
    "a, b, c = map(int, input().split()) # 간단한 것이 최고\n",
    "\n",
    "if a == b == c:\n",
    "    print(10000+a*1000)\n",
    "elif a == b:\n",
    "    print(1000+a*100)\n",
    "elif a == c:\n",
    "    print(1000+a*100)\n",
    "elif b == c:\n",
    "    print(1000+b*100)\n",
    "else:\n",
    "    print(100 * max(a,b,c))"
   ]
  },
  {
   "cell_type": "code",
   "execution_count": null,
   "metadata": {},
   "outputs": [],
   "source": []
  }
 ],
 "metadata": {
  "kernelspec": {
   "display_name": "base",
   "language": "python",
   "name": "python3"
  },
  "language_info": {
   "codemirror_mode": {
    "name": "ipython",
    "version": 3
   },
   "file_extension": ".py",
   "mimetype": "text/x-python",
   "name": "python",
   "nbconvert_exporter": "python",
   "pygments_lexer": "ipython3",
   "version": "3.11.5"
  }
 },
 "nbformat": 4,
 "nbformat_minor": 2
}
