{
 "cells": [
  {
   "cell_type": "code",
   "execution_count": 1,
   "metadata": {},
   "outputs": [],
   "source": [
    "# 1330번\n",
    "a, b = map(int, input().split())\n",
    "\n",
    "# num1 = int(input())\n",
    "# num2 = list(map(int,input()))\n",
    "\n",
    "if a > b:\n",
    "    print(\">\")\n",
    "elif a < b:\n",
    "    print(\"<\")\n",
    "elif a==b:\n",
    "    print(\"==\")\n"
   ]
  },
  {
   "cell_type": "code",
   "execution_count": 3,
   "metadata": {},
   "outputs": [
    {
     "name": "stdout",
     "output_type": "stream",
     "text": [
      "F\n"
     ]
    }
   ],
   "source": [
    "# 9498번 \n",
    "a = int(input())\n",
    "\n",
    "if 90 <= a <=100:\n",
    "    print(\"A\")\n",
    "elif 80 <= a <= 89:\n",
    "    print('B')\n",
    "elif 70 <= a <=79:\n",
    "    print('C')\n",
    "elif 60 <= a <= 69:\n",
    "    print('D')\n",
    "else:\n",
    "    print('F')"
   ]
  },
  {
   "cell_type": "code",
   "execution_count": 25,
   "metadata": {},
   "outputs": [
    {
     "name": "stdout",
     "output_type": "stream",
     "text": [
      "1\n"
     ]
    }
   ],
   "source": [
    "# 2753번\n",
    "year = int(input())\n",
    "\n",
    "if year%4 == 0 and year%100 != 0 or year%400 == 0:\n",
    "# 윤년은 연도가 4의 배수이면서,(and) 100의 배수가 아닐 때 또는(or) 400의 배수일 때이다.\n",
    "\n",
    "\n",
    "    print(1)\n",
    "else: print(0)"
   ]
  },
  {
   "cell_type": "code",
   "execution_count": 47,
   "metadata": {},
   "outputs": [
    {
     "name": "stdout",
     "output_type": "stream",
     "text": [
      "3\n"
     ]
    }
   ],
   "source": [
    "# 14681번\n",
    "x = int(input())\n",
    "y = int(input())\n",
    "\n",
    "# print(type(x),type(y))\n",
    "\n",
    "if x > 0 and y > 0:\n",
    "    print('1')\n",
    "elif x < 0 and y > 0:\n",
    "    print('2')\n",
    "#elif x < 0 and y < 0:\n",
    "#    print('3')\n",
    "elif x > 0 and y < 0:\n",
    "    print('4')\n",
    "else: print('3')"
   ]
  },
  {
   "cell_type": "code",
   "execution_count": null,
   "metadata": {},
   "outputs": [],
   "source": []
  }
 ],
 "metadata": {
  "kernelspec": {
   "display_name": "base",
   "language": "python",
   "name": "python3"
  },
  "language_info": {
   "codemirror_mode": {
    "name": "ipython",
    "version": 3
   },
   "file_extension": ".py",
   "mimetype": "text/x-python",
   "name": "python",
   "nbconvert_exporter": "python",
   "pygments_lexer": "ipython3",
   "version": "3.11.5"
  }
 },
 "nbformat": 4,
 "nbformat_minor": 2
}
