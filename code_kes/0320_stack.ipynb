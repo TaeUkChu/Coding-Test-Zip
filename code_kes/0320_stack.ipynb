{
 "cells": [
  {
   "cell_type": "code",
   "execution_count": 27,
   "metadata": {},
   "outputs": [
    {
     "name": "stdout",
     "output_type": "stream",
     "text": [
      "8a6a5a3a1a"
     ]
    }
   ],
   "source": [
    "# a, b = map(int, input().split()) 입력 값 기본 form"
   ]
  },
  {
   "cell_type": "code",
   "execution_count": null,
   "metadata": {},
   "outputs": [],
   "source": [
    "# 1402 : 거꾸로 출력하기 3\n",
    "\n",
    "n = input()\n",
    "input_list= input().split()\n",
    "\n",
    "result=[]\n",
    "for i in range(int(n)):\n",
    "    print(input_list.pop(), end='')\n",
    "\n",
    "# split()\n",
    "# 인자로 받은 값을 기준으로 자료를 나누어 리스트로 반환환다\n",
    "# 인자값이 공백인 경우, 공백을 기준으로 자료를 나누어 리스트로 반환하기 떄문에 \n",
    "# 빈리스트를 생성해서 input 값을 받지 않아도 된다.\n",
    "\n",
    "# print()의 end='' 옵션\n",
    "# 인자값을 출력하는 값 사이에 넣어 세로가 아닌 가로로 출력한다.\n",
    "# 만약 인자값이 공백이라면 출력값을 마치 띄어쓰기한 것 처럼 가로로 출력할 수 있다."
   ]
  },
  {
   "cell_type": "code",
   "execution_count": 43,
   "metadata": {},
   "outputs": [
    {
     "name": "stdout",
     "output_type": "stream",
     "text": [
      "654321"
     ]
    }
   ],
   "source": [
    "# 1714 : 숫자 거꾸로 출력하기 \n",
    "\n",
    "n = input()\n",
    "in_list= []\n",
    "for i in n:\n",
    "    in_list.append(i)\n",
    "\n",
    "for i in range(len(in_list)):\n",
    "    print(in_list.pop(), end='')\n",
    "    \n",
    "# '1232134'와 같은 문자열을 for문을 사용하면 \n",
    "# 인자 'i'에 문자열이 각 요소별로 저장된다."
   ]
  },
  {
   "cell_type": "code",
   "execution_count": null,
   "metadata": {},
   "outputs": [],
   "source": []
  }
 ],
 "metadata": {
  "kernelspec": {
   "display_name": "base",
   "language": "python",
   "name": "python3"
  },
  "language_info": {
   "codemirror_mode": {
    "name": "ipython",
    "version": 3
   },
   "file_extension": ".py",
   "mimetype": "text/x-python",
   "name": "python",
   "nbconvert_exporter": "python",
   "pygments_lexer": "ipython3",
   "version": "3.11.5"
  }
 },
 "nbformat": 4,
 "nbformat_minor": 2
}
